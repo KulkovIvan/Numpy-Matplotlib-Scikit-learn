{
 "cells": [
  {
   "cell_type": "markdown",
   "id": "5a8ac775",
   "metadata": {},
   "source": [
    "### Задание для курсового проекта\n",
    "\n",
    "Метрика:\n",
    "R2 - коэффициент детерминации (sklearn.metrics.r2_score)\n",
    "\n",
    "Сдача проекта:\n",
    "1. Прислать в раздел Задания Урока 10 (\"Вебинар. Консультация по итоговому проекту\")\n",
    "ссылку на программу в github (программа должна содержаться в файле Jupyter Notebook \n",
    "с расширением ipynb). (Pull request не нужен, только ссылка ведущая на сам скрипт).\n",
    "2. Приложить файл с названием по образцу SShirkin_predictions.csv\n",
    "с предсказанными ценами для квартир из test.csv (файл должен содержать два поля: Id, Price).\n",
    "В файле с предсказаниями должна быть 5001 строка (шапка + 5000 предсказаний).\n",
    "\n",
    "Сроки и условия сдачи:\n",
    "Дедлайн: сдать проект нужно в течение 72 часов после начала Урока 10 (\"Вебинар. Консультация по итоговому проекту\").\n",
    "Для успешной сдачи должны быть все предсказания (для 5000 квартир) и R2 должен быть больше 0.6.\n",
    "При сдаче до дедлайна результат проекта может попасть в топ лучших результатов.\n",
    "Повторная сдача и проверка результатов возможны только при условии предыдущей неуспешной сдачи.\n",
    "Успешный проект нельзя пересдать в целях повышения результата.\n",
    "Проекты, сданные после дедлайна или сданные повторно, не попадают в топ лучших результатов, но можно узнать результат.\n",
    "В качестве итогового результата берется первый успешный результат, последующие успешные результаты не учитываются.\n",
    "\n",
    "Примечание:\n",
    "Все файлы csv должны содержать названия полей (header - то есть \"шапку\"),\n",
    "разделитель - запятая. В файлах не должны содержаться индексы из датафрейма.\n",
    "\n",
    "Рекомендации для файла с кодом (ipynb):\n",
    "1. Файл должен содержать заголовки и комментарии\n",
    "2. Повторяющиеся операции лучше оформлять в виде функций\n",
    "3. Не делать вывод большого количества строк таблиц (5-10 достаточно)\n",
    "4. По возможности добавлять графики, описывающие данные (около 3-5)\n",
    "5. Добавлять только лучшую модель, то есть не включать в код все варианты решения проекта\n",
    "6. Скрипт проекта должен отрабатывать от начала и до конца (от загрузки данных до выгрузки предсказаний)\n",
    "7. Весь проект должен быть в одном скрипте (файл ipynb).\n",
    "8. При использовании статистик (среднее, медиана и т.д.) в качестве признаков,\n",
    "лучше считать их на трейне, и потом на валидационных и тестовых данных не считать \n",
    "статистики заново, а брать их с трейна. Если хватает знаний, можно использовать кросс-валидацию,\n",
    "но для сдачи этого проекта достаточно разбить данные из train.csv на train и valid.\n",
    "9. Проект должен полностью отрабатывать за разумное время (не больше 10 минут),\n",
    "поэтому в финальный вариант лучше не включать GridSearch с перебором \n",
    "большого количества сочетаний параметров.\n",
    "10. Допускается применение моделей машинного обучения из библиотеки sklearn."
   ]
  },
  {
   "cell_type": "markdown",
   "id": "af6e883a",
   "metadata": {},
   "source": [
    "### Подключение библиотек и скриптов "
   ]
  },
  {
   "cell_type": "code",
   "execution_count": 176,
   "id": "a5326933",
   "metadata": {},
   "outputs": [],
   "source": [
    "import numpy as np\n",
    "import pandas as pd\n",
    "import random\n",
    "\n",
    "from sklearn.model_selection import train_test_split, cross_val_score\n",
    "from sklearn.preprocessing import StandardScaler, MinMaxScaler\n",
    "from sklearn.ensemble import RandomForestRegressor\n",
    "from sklearn.metrics import r2_score as r2\n",
    "from sklearn.model_selection import KFold, GridSearchCV\n",
    "\n",
    "import matplotlib\n",
    "import matplotlib.pyplot as plt\n",
    "import seaborn as sns\n",
    "%matplotlib inline"
   ]
  },
  {
   "cell_type": "code",
   "execution_count": 177,
   "id": "78309138",
   "metadata": {},
   "outputs": [],
   "source": [
    "import warnings\n",
    "warnings.filterwarnings('ignore')"
   ]
  },
  {
   "cell_type": "code",
   "execution_count": 178,
   "id": "51cfddb5",
   "metadata": {},
   "outputs": [],
   "source": [
    "matplotlib.rcParams.update({'font.size': 14})"
   ]
  },
  {
   "cell_type": "code",
   "execution_count": 179,
   "id": "e1f1e510",
   "metadata": {},
   "outputs": [],
   "source": [
    "def evaluate_preds(train_true_values, train_pred_values, test_true_values, test_pred_values):\n",
    "    print(\"Train R2:\\t\" + str(round(r2(train_true_values, train_pred_values), 3)))\n",
    "    print(\"Test R2:\\t\" + str(round(r2(test_true_values, test_pred_values), 3)))\n",
    "    \n",
    "    plt.figure(figsize=(18,10))\n",
    "    \n",
    "    plt.subplot(121)\n",
    "    sns.scatterplot(x=train_pred_values, y=train_true_values)\n",
    "    plt.xlabel('Predicted values')\n",
    "    plt.ylabel('True values')\n",
    "    plt.title('Train sample prediction')\n",
    "    \n",
    "    plt.subplot(122)\n",
    "    sns.scatterplot(x=test_pred_values, y=test_true_values)\n",
    "    plt.xlabel('Predicted values')\n",
    "    plt.ylabel('True values')\n",
    "    plt.title('Test sample prediction')\n",
    "\n",
    "    plt.show()"
   ]
  },
  {
   "cell_type": "markdown",
   "id": "2167864c",
   "metadata": {},
   "source": [
    "### Пути к директориям и файлам"
   ]
  },
  {
   "cell_type": "code",
   "execution_count": 180,
   "id": "ba3df73b",
   "metadata": {},
   "outputs": [],
   "source": [
    "TRAIN_DATASET_PATH = 'DATA/train.csv' # y_train, y_valid\n",
    "TEST_DATASET_PATH = 'DATA/test.csv'"
   ]
  },
  {
   "cell_type": "markdown",
   "id": "5c9c5593",
   "metadata": {},
   "source": [
    "### Загрузка данных"
   ]
  },
  {
   "cell_type": "markdown",
   "id": "5ec3e7c2",
   "metadata": {},
   "source": [
    "**Описание датасета**\n",
    "\n",
    "* **Id** - идентификационный номер квартиры\n",
    "* **DistrictId** - идентификационный номер района\n",
    "* **Rooms** - количество комнат\n",
    "* **Square** - площадь\n",
    "* **LifeSquare** - жилая площадь\n",
    "* **KitchenSquare** - площадь кухни\n",
    "* **Floor** - этаж\n",
    "* **HouseFloor** - количество этажей в доме\n",
    "* **HouseYear** - год постройки дома\n",
    "* **Ecology_1, Ecology_2, Ecology_3** - экологические показатели местности\n",
    "* **Social_1, Social_2, Social_3** - социальные показатели местности\n",
    "* **Healthcare_1, Helthcare_2** - показатели местности, связанные с охраной здоровья\n",
    "* **Shops_1, Shops_2** - показатели, связанные с наличием магазинов, торговых центров\n",
    "* **Price** - цена квартиры"
   ]
  },
  {
   "cell_type": "code",
   "execution_count": 181,
   "id": "cf8c6660",
   "metadata": {},
   "outputs": [
    {
     "data": {
      "text/html": [
       "<div>\n",
       "<style scoped>\n",
       "    .dataframe tbody tr th:only-of-type {\n",
       "        vertical-align: middle;\n",
       "    }\n",
       "\n",
       "    .dataframe tbody tr th {\n",
       "        vertical-align: top;\n",
       "    }\n",
       "\n",
       "    .dataframe thead th {\n",
       "        text-align: right;\n",
       "    }\n",
       "</style>\n",
       "<table border=\"1\" class=\"dataframe\">\n",
       "  <thead>\n",
       "    <tr style=\"text-align: right;\">\n",
       "      <th></th>\n",
       "      <th>Id</th>\n",
       "      <th>DistrictId</th>\n",
       "      <th>Rooms</th>\n",
       "      <th>Square</th>\n",
       "      <th>LifeSquare</th>\n",
       "      <th>KitchenSquare</th>\n",
       "      <th>Floor</th>\n",
       "      <th>HouseFloor</th>\n",
       "      <th>HouseYear</th>\n",
       "      <th>Ecology_1</th>\n",
       "      <th>Ecology_2</th>\n",
       "      <th>Ecology_3</th>\n",
       "      <th>Social_1</th>\n",
       "      <th>Social_2</th>\n",
       "      <th>Social_3</th>\n",
       "      <th>Healthcare_1</th>\n",
       "      <th>Helthcare_2</th>\n",
       "      <th>Shops_1</th>\n",
       "      <th>Shops_2</th>\n",
       "      <th>Price</th>\n",
       "    </tr>\n",
       "  </thead>\n",
       "  <tbody>\n",
       "    <tr>\n",
       "      <th>9995</th>\n",
       "      <td>77</td>\n",
       "      <td>32</td>\n",
       "      <td>2.0</td>\n",
       "      <td>50.401785</td>\n",
       "      <td>30.476203</td>\n",
       "      <td>5.0</td>\n",
       "      <td>6</td>\n",
       "      <td>5.0</td>\n",
       "      <td>1968</td>\n",
       "      <td>0.135650</td>\n",
       "      <td>B</td>\n",
       "      <td>B</td>\n",
       "      <td>46</td>\n",
       "      <td>7960</td>\n",
       "      <td>6</td>\n",
       "      <td>350.0</td>\n",
       "      <td>3</td>\n",
       "      <td>11</td>\n",
       "      <td>B</td>\n",
       "      <td>196684.316040</td>\n",
       "    </tr>\n",
       "    <tr>\n",
       "      <th>9996</th>\n",
       "      <td>6159</td>\n",
       "      <td>18</td>\n",
       "      <td>1.0</td>\n",
       "      <td>41.521546</td>\n",
       "      <td>20.539216</td>\n",
       "      <td>9.0</td>\n",
       "      <td>13</td>\n",
       "      <td>13.0</td>\n",
       "      <td>2000</td>\n",
       "      <td>0.000000</td>\n",
       "      <td>B</td>\n",
       "      <td>B</td>\n",
       "      <td>30</td>\n",
       "      <td>5562</td>\n",
       "      <td>0</td>\n",
       "      <td>NaN</td>\n",
       "      <td>0</td>\n",
       "      <td>5</td>\n",
       "      <td>A</td>\n",
       "      <td>189050.289571</td>\n",
       "    </tr>\n",
       "    <tr>\n",
       "      <th>9997</th>\n",
       "      <td>5123</td>\n",
       "      <td>27</td>\n",
       "      <td>1.0</td>\n",
       "      <td>47.939008</td>\n",
       "      <td>NaN</td>\n",
       "      <td>1.0</td>\n",
       "      <td>12</td>\n",
       "      <td>16.0</td>\n",
       "      <td>2015</td>\n",
       "      <td>0.072158</td>\n",
       "      <td>B</td>\n",
       "      <td>B</td>\n",
       "      <td>2</td>\n",
       "      <td>629</td>\n",
       "      <td>1</td>\n",
       "      <td>NaN</td>\n",
       "      <td>0</td>\n",
       "      <td>0</td>\n",
       "      <td>A</td>\n",
       "      <td>159143.805370</td>\n",
       "    </tr>\n",
       "    <tr>\n",
       "      <th>9998</th>\n",
       "      <td>5400</td>\n",
       "      <td>75</td>\n",
       "      <td>2.0</td>\n",
       "      <td>43.602562</td>\n",
       "      <td>33.840147</td>\n",
       "      <td>8.0</td>\n",
       "      <td>1</td>\n",
       "      <td>5.0</td>\n",
       "      <td>1961</td>\n",
       "      <td>0.307467</td>\n",
       "      <td>B</td>\n",
       "      <td>A</td>\n",
       "      <td>30</td>\n",
       "      <td>5048</td>\n",
       "      <td>9</td>\n",
       "      <td>325.0</td>\n",
       "      <td>2</td>\n",
       "      <td>5</td>\n",
       "      <td>B</td>\n",
       "      <td>181595.339808</td>\n",
       "    </tr>\n",
       "    <tr>\n",
       "      <th>9999</th>\n",
       "      <td>6306</td>\n",
       "      <td>128</td>\n",
       "      <td>1.0</td>\n",
       "      <td>38.666645</td>\n",
       "      <td>21.157874</td>\n",
       "      <td>8.0</td>\n",
       "      <td>7</td>\n",
       "      <td>17.0</td>\n",
       "      <td>1990</td>\n",
       "      <td>0.000000</td>\n",
       "      <td>B</td>\n",
       "      <td>B</td>\n",
       "      <td>27</td>\n",
       "      <td>4798</td>\n",
       "      <td>0</td>\n",
       "      <td>30.0</td>\n",
       "      <td>2</td>\n",
       "      <td>8</td>\n",
       "      <td>B</td>\n",
       "      <td>218714.077615</td>\n",
       "    </tr>\n",
       "  </tbody>\n",
       "</table>\n",
       "</div>"
      ],
      "text/plain": [
       "        Id  DistrictId  Rooms     Square  LifeSquare  KitchenSquare  Floor  \\\n",
       "9995    77          32    2.0  50.401785   30.476203            5.0      6   \n",
       "9996  6159          18    1.0  41.521546   20.539216            9.0     13   \n",
       "9997  5123          27    1.0  47.939008         NaN            1.0     12   \n",
       "9998  5400          75    2.0  43.602562   33.840147            8.0      1   \n",
       "9999  6306         128    1.0  38.666645   21.157874            8.0      7   \n",
       "\n",
       "      HouseFloor  HouseYear  Ecology_1 Ecology_2 Ecology_3  Social_1  \\\n",
       "9995         5.0       1968   0.135650         B         B        46   \n",
       "9996        13.0       2000   0.000000         B         B        30   \n",
       "9997        16.0       2015   0.072158         B         B         2   \n",
       "9998         5.0       1961   0.307467         B         A        30   \n",
       "9999        17.0       1990   0.000000         B         B        27   \n",
       "\n",
       "      Social_2  Social_3  Healthcare_1  Helthcare_2  Shops_1 Shops_2  \\\n",
       "9995      7960         6         350.0            3       11       B   \n",
       "9996      5562         0           NaN            0        5       A   \n",
       "9997       629         1           NaN            0        0       A   \n",
       "9998      5048         9         325.0            2        5       B   \n",
       "9999      4798         0          30.0            2        8       B   \n",
       "\n",
       "              Price  \n",
       "9995  196684.316040  \n",
       "9996  189050.289571  \n",
       "9997  159143.805370  \n",
       "9998  181595.339808  \n",
       "9999  218714.077615  "
      ]
     },
     "execution_count": 181,
     "metadata": {},
     "output_type": "execute_result"
    }
   ],
   "source": [
    "train_df = pd.read_csv(TRAIN_DATASET_PATH)\n",
    "train_df.tail()"
   ]
  },
  {
   "cell_type": "code",
   "execution_count": 182,
   "id": "8a4f1b40",
   "metadata": {},
   "outputs": [
    {
     "data": {
      "text/html": [
       "<div>\n",
       "<style scoped>\n",
       "    .dataframe tbody tr th:only-of-type {\n",
       "        vertical-align: middle;\n",
       "    }\n",
       "\n",
       "    .dataframe tbody tr th {\n",
       "        vertical-align: top;\n",
       "    }\n",
       "\n",
       "    .dataframe thead th {\n",
       "        text-align: right;\n",
       "    }\n",
       "</style>\n",
       "<table border=\"1\" class=\"dataframe\">\n",
       "  <thead>\n",
       "    <tr style=\"text-align: right;\">\n",
       "      <th></th>\n",
       "      <th>Id</th>\n",
       "      <th>DistrictId</th>\n",
       "      <th>Rooms</th>\n",
       "      <th>Square</th>\n",
       "      <th>LifeSquare</th>\n",
       "      <th>KitchenSquare</th>\n",
       "      <th>Floor</th>\n",
       "      <th>HouseFloor</th>\n",
       "      <th>HouseYear</th>\n",
       "      <th>Ecology_1</th>\n",
       "      <th>Ecology_2</th>\n",
       "      <th>Ecology_3</th>\n",
       "      <th>Social_1</th>\n",
       "      <th>Social_2</th>\n",
       "      <th>Social_3</th>\n",
       "      <th>Healthcare_1</th>\n",
       "      <th>Helthcare_2</th>\n",
       "      <th>Shops_1</th>\n",
       "      <th>Shops_2</th>\n",
       "    </tr>\n",
       "  </thead>\n",
       "  <tbody>\n",
       "    <tr>\n",
       "      <th>4995</th>\n",
       "      <td>8180</td>\n",
       "      <td>11</td>\n",
       "      <td>3.0</td>\n",
       "      <td>67.133911</td>\n",
       "      <td>50.809797</td>\n",
       "      <td>6.0</td>\n",
       "      <td>5</td>\n",
       "      <td>9.0</td>\n",
       "      <td>1973</td>\n",
       "      <td>0.000170</td>\n",
       "      <td>B</td>\n",
       "      <td>B</td>\n",
       "      <td>36</td>\n",
       "      <td>5992</td>\n",
       "      <td>0</td>\n",
       "      <td>NaN</td>\n",
       "      <td>1</td>\n",
       "      <td>1</td>\n",
       "      <td>B</td>\n",
       "    </tr>\n",
       "    <tr>\n",
       "      <th>4996</th>\n",
       "      <td>4695</td>\n",
       "      <td>1</td>\n",
       "      <td>1.0</td>\n",
       "      <td>40.198472</td>\n",
       "      <td>21.807061</td>\n",
       "      <td>10.0</td>\n",
       "      <td>12</td>\n",
       "      <td>17.0</td>\n",
       "      <td>2017</td>\n",
       "      <td>0.007122</td>\n",
       "      <td>B</td>\n",
       "      <td>B</td>\n",
       "      <td>1</td>\n",
       "      <td>264</td>\n",
       "      <td>0</td>\n",
       "      <td>NaN</td>\n",
       "      <td>0</td>\n",
       "      <td>1</td>\n",
       "      <td>B</td>\n",
       "    </tr>\n",
       "    <tr>\n",
       "      <th>4997</th>\n",
       "      <td>5783</td>\n",
       "      <td>12</td>\n",
       "      <td>3.0</td>\n",
       "      <td>77.842178</td>\n",
       "      <td>48.282625</td>\n",
       "      <td>9.0</td>\n",
       "      <td>23</td>\n",
       "      <td>22.0</td>\n",
       "      <td>1989</td>\n",
       "      <td>0.090799</td>\n",
       "      <td>B</td>\n",
       "      <td>B</td>\n",
       "      <td>74</td>\n",
       "      <td>19083</td>\n",
       "      <td>2</td>\n",
       "      <td>NaN</td>\n",
       "      <td>5</td>\n",
       "      <td>15</td>\n",
       "      <td>B</td>\n",
       "    </tr>\n",
       "    <tr>\n",
       "      <th>4998</th>\n",
       "      <td>4780</td>\n",
       "      <td>62</td>\n",
       "      <td>2.0</td>\n",
       "      <td>81.305222</td>\n",
       "      <td>NaN</td>\n",
       "      <td>0.0</td>\n",
       "      <td>4</td>\n",
       "      <td>0.0</td>\n",
       "      <td>1977</td>\n",
       "      <td>0.072158</td>\n",
       "      <td>B</td>\n",
       "      <td>B</td>\n",
       "      <td>2</td>\n",
       "      <td>629</td>\n",
       "      <td>1</td>\n",
       "      <td>NaN</td>\n",
       "      <td>0</td>\n",
       "      <td>0</td>\n",
       "      <td>A</td>\n",
       "    </tr>\n",
       "    <tr>\n",
       "      <th>4999</th>\n",
       "      <td>12504</td>\n",
       "      <td>30</td>\n",
       "      <td>2.0</td>\n",
       "      <td>60.555693</td>\n",
       "      <td>NaN</td>\n",
       "      <td>1.0</td>\n",
       "      <td>10</td>\n",
       "      <td>17.0</td>\n",
       "      <td>1977</td>\n",
       "      <td>0.000078</td>\n",
       "      <td>B</td>\n",
       "      <td>B</td>\n",
       "      <td>22</td>\n",
       "      <td>6398</td>\n",
       "      <td>141</td>\n",
       "      <td>1046.0</td>\n",
       "      <td>3</td>\n",
       "      <td>23</td>\n",
       "      <td>B</td>\n",
       "    </tr>\n",
       "  </tbody>\n",
       "</table>\n",
       "</div>"
      ],
      "text/plain": [
       "         Id  DistrictId  Rooms     Square  LifeSquare  KitchenSquare  Floor  \\\n",
       "4995   8180          11    3.0  67.133911   50.809797            6.0      5   \n",
       "4996   4695           1    1.0  40.198472   21.807061           10.0     12   \n",
       "4997   5783          12    3.0  77.842178   48.282625            9.0     23   \n",
       "4998   4780          62    2.0  81.305222         NaN            0.0      4   \n",
       "4999  12504          30    2.0  60.555693         NaN            1.0     10   \n",
       "\n",
       "      HouseFloor  HouseYear  Ecology_1 Ecology_2 Ecology_3  Social_1  \\\n",
       "4995         9.0       1973   0.000170         B         B        36   \n",
       "4996        17.0       2017   0.007122         B         B         1   \n",
       "4997        22.0       1989   0.090799         B         B        74   \n",
       "4998         0.0       1977   0.072158         B         B         2   \n",
       "4999        17.0       1977   0.000078         B         B        22   \n",
       "\n",
       "      Social_2  Social_3  Healthcare_1  Helthcare_2  Shops_1 Shops_2  \n",
       "4995      5992         0           NaN            1        1       B  \n",
       "4996       264         0           NaN            0        1       B  \n",
       "4997     19083         2           NaN            5       15       B  \n",
       "4998       629         1           NaN            0        0       A  \n",
       "4999      6398       141        1046.0            3       23       B  "
      ]
     },
     "execution_count": 182,
     "metadata": {},
     "output_type": "execute_result"
    }
   ],
   "source": [
    "test_df = pd.read_csv(TEST_DATASET_PATH)\n",
    "test_df.tail()"
   ]
  },
  {
   "cell_type": "code",
   "execution_count": 183,
   "id": "8dceee47",
   "metadata": {},
   "outputs": [
    {
     "name": "stdout",
     "output_type": "stream",
     "text": [
      "Строк в трейне: 10000\n",
      "Строк в тесте 5000\n"
     ]
    }
   ],
   "source": [
    "print('Строк в трейне:', train_df.shape[0])\n",
    "print('Строк в тесте', test_df.shape[0])"
   ]
  },
  {
   "cell_type": "code",
   "execution_count": 184,
   "id": "f8a63e09",
   "metadata": {},
   "outputs": [
    {
     "data": {
      "text/plain": [
       "True"
      ]
     },
     "execution_count": 184,
     "metadata": {},
     "output_type": "execute_result"
    }
   ],
   "source": [
    "train_df.shape[1] - 1 == test_df.shape[1]"
   ]
  },
  {
   "cell_type": "markdown",
   "id": "edbfba5f",
   "metadata": {},
   "source": [
    "### Приведение типов "
   ]
  },
  {
   "cell_type": "code",
   "execution_count": 185,
   "id": "434748d9",
   "metadata": {},
   "outputs": [
    {
     "data": {
      "text/plain": [
       "Id                 int64\n",
       "DistrictId         int64\n",
       "Rooms            float64\n",
       "Square           float64\n",
       "LifeSquare       float64\n",
       "KitchenSquare    float64\n",
       "Floor              int64\n",
       "HouseFloor       float64\n",
       "HouseYear          int64\n",
       "Ecology_1        float64\n",
       "Ecology_2         object\n",
       "Ecology_3         object\n",
       "Social_1           int64\n",
       "Social_2           int64\n",
       "Social_3           int64\n",
       "Healthcare_1     float64\n",
       "Helthcare_2        int64\n",
       "Shops_1            int64\n",
       "Shops_2           object\n",
       "Price            float64\n",
       "dtype: object"
      ]
     },
     "execution_count": 185,
     "metadata": {},
     "output_type": "execute_result"
    }
   ],
   "source": [
    "train_df.dtypes"
   ]
  },
  {
   "cell_type": "code",
   "execution_count": 186,
   "id": "ef330fef",
   "metadata": {},
   "outputs": [
    {
     "data": {
      "text/plain": [
       "int64      9\n",
       "float64    8\n",
       "object     3\n",
       "dtype: int64"
      ]
     },
     "execution_count": 186,
     "metadata": {},
     "output_type": "execute_result"
    }
   ],
   "source": [
    "train_df.dtypes.value_counts()"
   ]
  },
  {
   "cell_type": "code",
   "execution_count": 187,
   "id": "2dad94de",
   "metadata": {},
   "outputs": [],
   "source": [
    "train_df['Id'] = train_df['Id'].astype(str)\n",
    "train_df['DistrictId'] = train_df['DistrictId'].astype(str)"
   ]
  },
  {
   "cell_type": "markdown",
   "id": "05297f53",
   "metadata": {},
   "source": [
    "## Обзор данных\n",
    "### Целевая переменная"
   ]
  },
  {
   "cell_type": "code",
   "execution_count": 188,
   "id": "4dfe7821",
   "metadata": {},
   "outputs": [
    {
     "data": {
      "image/png": "[encoded data removed]",
      "text/plain": [
       "<Figure size 1152x576 with 1 Axes>"
      ]
     },
     "metadata": {
      "needs_background": "light"
     },
     "output_type": "display_data"
    }
   ],
   "source": [
    "plt.figure(figsize = (16, 8))\n",
    "\n",
    "train_df['Price'].hist(bins=30)\n",
    "plt.ylabel('Count')\n",
    "plt.xlabel('Price')\n",
    "\n",
    "plt.title('Target distribution')\n",
    "plt.show()"
   ]
  },
  {
   "cell_type": "markdown",
   "id": "f6a4731a",
   "metadata": {},
   "source": [
    "### Количественные переменные "
   ]
  },
  {
   "cell_type": "code",
   "execution_count": 189,
   "id": "da381ab0",
   "metadata": {},
   "outputs": [
    {
     "data": {
      "text/html": [
       "<div>\n",
       "<style scoped>\n",
       "    .dataframe tbody tr th:only-of-type {\n",
       "        vertical-align: middle;\n",
       "    }\n",
       "\n",
       "    .dataframe tbody tr th {\n",
       "        vertical-align: top;\n",
       "    }\n",
       "\n",
       "    .dataframe thead th {\n",
       "        text-align: right;\n",
       "    }\n",
       "</style>\n",
       "<table border=\"1\" class=\"dataframe\">\n",
       "  <thead>\n",
       "    <tr style=\"text-align: right;\">\n",
       "      <th></th>\n",
       "      <th>Rooms</th>\n",
       "      <th>Square</th>\n",
       "      <th>LifeSquare</th>\n",
       "      <th>KitchenSquare</th>\n",
       "      <th>Floor</th>\n",
       "      <th>HouseFloor</th>\n",
       "      <th>HouseYear</th>\n",
       "      <th>Ecology_1</th>\n",
       "      <th>Social_1</th>\n",
       "      <th>Social_2</th>\n",
       "      <th>Social_3</th>\n",
       "      <th>Healthcare_1</th>\n",
       "      <th>Helthcare_2</th>\n",
       "      <th>Shops_1</th>\n",
       "      <th>Price</th>\n",
       "    </tr>\n",
       "  </thead>\n",
       "  <tbody>\n",
       "    <tr>\n",
       "      <th>count</th>\n",
       "      <td>10000.000000</td>\n",
       "      <td>10000.000000</td>\n",
       "      <td>7887.000000</td>\n",
       "      <td>10000.000000</td>\n",
       "      <td>10000.000000</td>\n",
       "      <td>10000.000000</td>\n",
       "      <td>1.000000e+04</td>\n",
       "      <td>10000.000000</td>\n",
       "      <td>10000.000000</td>\n",
       "      <td>10000.000000</td>\n",
       "      <td>10000.000000</td>\n",
       "      <td>5202.000000</td>\n",
       "      <td>10000.000000</td>\n",
       "      <td>10000.000000</td>\n",
       "      <td>10000.000000</td>\n",
       "    </tr>\n",
       "    <tr>\n",
       "      <th>mean</th>\n",
       "      <td>1.890500</td>\n",
       "      <td>56.315775</td>\n",
       "      <td>37.199645</td>\n",
       "      <td>6.273300</td>\n",
       "      <td>8.526700</td>\n",
       "      <td>12.609400</td>\n",
       "      <td>3.990166e+03</td>\n",
       "      <td>0.118858</td>\n",
       "      <td>24.687000</td>\n",
       "      <td>5352.157400</td>\n",
       "      <td>8.039200</td>\n",
       "      <td>1142.904460</td>\n",
       "      <td>1.319500</td>\n",
       "      <td>4.231300</td>\n",
       "      <td>214138.857399</td>\n",
       "    </tr>\n",
       "    <tr>\n",
       "      <th>std</th>\n",
       "      <td>0.839512</td>\n",
       "      <td>21.058732</td>\n",
       "      <td>86.241209</td>\n",
       "      <td>28.560917</td>\n",
       "      <td>5.241148</td>\n",
       "      <td>6.775974</td>\n",
       "      <td>2.005003e+05</td>\n",
       "      <td>0.119025</td>\n",
       "      <td>17.532614</td>\n",
       "      <td>4006.799803</td>\n",
       "      <td>23.831875</td>\n",
       "      <td>1021.517264</td>\n",
       "      <td>1.493601</td>\n",
       "      <td>4.806341</td>\n",
       "      <td>92872.293865</td>\n",
       "    </tr>\n",
       "    <tr>\n",
       "      <th>min</th>\n",
       "      <td>0.000000</td>\n",
       "      <td>1.136859</td>\n",
       "      <td>0.370619</td>\n",
       "      <td>0.000000</td>\n",
       "      <td>1.000000</td>\n",
       "      <td>0.000000</td>\n",
       "      <td>1.910000e+03</td>\n",
       "      <td>0.000000</td>\n",
       "      <td>0.000000</td>\n",
       "      <td>168.000000</td>\n",
       "      <td>0.000000</td>\n",
       "      <td>0.000000</td>\n",
       "      <td>0.000000</td>\n",
       "      <td>0.000000</td>\n",
       "      <td>59174.778028</td>\n",
       "    </tr>\n",
       "    <tr>\n",
       "      <th>25%</th>\n",
       "      <td>1.000000</td>\n",
       "      <td>41.774881</td>\n",
       "      <td>22.769832</td>\n",
       "      <td>1.000000</td>\n",
       "      <td>4.000000</td>\n",
       "      <td>9.000000</td>\n",
       "      <td>1.974000e+03</td>\n",
       "      <td>0.017647</td>\n",
       "      <td>6.000000</td>\n",
       "      <td>1564.000000</td>\n",
       "      <td>0.000000</td>\n",
       "      <td>350.000000</td>\n",
       "      <td>0.000000</td>\n",
       "      <td>1.000000</td>\n",
       "      <td>153872.633942</td>\n",
       "    </tr>\n",
       "    <tr>\n",
       "      <th>50%</th>\n",
       "      <td>2.000000</td>\n",
       "      <td>52.513310</td>\n",
       "      <td>32.781260</td>\n",
       "      <td>6.000000</td>\n",
       "      <td>7.000000</td>\n",
       "      <td>13.000000</td>\n",
       "      <td>1.977000e+03</td>\n",
       "      <td>0.075424</td>\n",
       "      <td>25.000000</td>\n",
       "      <td>5285.000000</td>\n",
       "      <td>2.000000</td>\n",
       "      <td>900.000000</td>\n",
       "      <td>1.000000</td>\n",
       "      <td>3.000000</td>\n",
       "      <td>192269.644879</td>\n",
       "    </tr>\n",
       "    <tr>\n",
       "      <th>75%</th>\n",
       "      <td>2.000000</td>\n",
       "      <td>65.900625</td>\n",
       "      <td>45.128803</td>\n",
       "      <td>9.000000</td>\n",
       "      <td>12.000000</td>\n",
       "      <td>17.000000</td>\n",
       "      <td>2.001000e+03</td>\n",
       "      <td>0.195781</td>\n",
       "      <td>36.000000</td>\n",
       "      <td>7227.000000</td>\n",
       "      <td>5.000000</td>\n",
       "      <td>1548.000000</td>\n",
       "      <td>2.000000</td>\n",
       "      <td>6.000000</td>\n",
       "      <td>249135.462171</td>\n",
       "    </tr>\n",
       "    <tr>\n",
       "      <th>max</th>\n",
       "      <td>19.000000</td>\n",
       "      <td>641.065193</td>\n",
       "      <td>7480.592129</td>\n",
       "      <td>2014.000000</td>\n",
       "      <td>42.000000</td>\n",
       "      <td>117.000000</td>\n",
       "      <td>2.005201e+07</td>\n",
       "      <td>0.521867</td>\n",
       "      <td>74.000000</td>\n",
       "      <td>19083.000000</td>\n",
       "      <td>141.000000</td>\n",
       "      <td>4849.000000</td>\n",
       "      <td>6.000000</td>\n",
       "      <td>23.000000</td>\n",
       "      <td>633233.466570</td>\n",
       "    </tr>\n",
       "  </tbody>\n",
       "</table>\n",
       "</div>"
      ],
      "text/plain": [
       "              Rooms        Square   LifeSquare  KitchenSquare         Floor  \\\n",
       "count  10000.000000  10000.000000  7887.000000   10000.000000  10000.000000   \n",
       "mean       1.890500     56.315775    37.199645       6.273300      8.526700   \n",
       "std        0.839512     21.058732    86.241209      28.560917      5.241148   \n",
       "min        0.000000      1.136859     0.370619       0.000000      1.000000   \n",
       "25%        1.000000     41.774881    22.769832       1.000000      4.000000   \n",
       "50%        2.000000     52.513310    32.781260       6.000000      7.000000   \n",
       "75%        2.000000     65.900625    45.128803       9.000000     12.000000   \n",
       "max       19.000000    641.065193  7480.592129    2014.000000     42.000000   \n",
       "\n",
       "         HouseFloor     HouseYear     Ecology_1      Social_1      Social_2  \\\n",
       "count  10000.000000  1.000000e+04  10000.000000  10000.000000  10000.000000   \n",
       "mean      12.609400  3.990166e+03      0.118858     24.687000   5352.157400   \n",
       "std        6.775974  2.005003e+05      0.119025     17.532614   4006.799803   \n",
       "min        0.000000  1.910000e+03      0.000000      0.000000    168.000000   \n",
       "25%        9.000000  1.974000e+03      0.017647      6.000000   1564.000000   \n",
       "50%       13.000000  1.977000e+03      0.075424     25.000000   5285.000000   \n",
       "75%       17.000000  2.001000e+03      0.195781     36.000000   7227.000000   \n",
       "max      117.000000  2.005201e+07      0.521867     74.000000  19083.000000   \n",
       "\n",
       "           Social_3  Healthcare_1   Helthcare_2       Shops_1          Price  \n",
       "count  10000.000000   5202.000000  10000.000000  10000.000000   10000.000000  \n",
       "mean       8.039200   1142.904460      1.319500      4.231300  214138.857399  \n",
       "std       23.831875   1021.517264      1.493601      4.806341   92872.293865  \n",
       "min        0.000000      0.000000      0.000000      0.000000   59174.778028  \n",
       "25%        0.000000    350.000000      0.000000      1.000000  153872.633942  \n",
       "50%        2.000000    900.000000      1.000000      3.000000  192269.644879  \n",
       "75%        5.000000   1548.000000      2.000000      6.000000  249135.462171  \n",
       "max      141.000000   4849.000000      6.000000     23.000000  633233.466570  "
      ]
     },
     "execution_count": 189,
     "metadata": {},
     "output_type": "execute_result"
    }
   ],
   "source": [
    "train_df.describe()"
   ]
  },
  {
   "cell_type": "markdown",
   "id": "c485efba",
   "metadata": {},
   "source": [
    "### Категориальные переменные"
   ]
  },
  {
   "cell_type": "code",
   "execution_count": 190,
   "id": "388ef14a",
   "metadata": {},
   "outputs": [
    {
     "data": {
      "text/plain": [
       "['Id', 'DistrictId', 'Ecology_2', 'Ecology_3', 'Shops_2']"
      ]
     },
     "execution_count": 190,
     "metadata": {},
     "output_type": "execute_result"
    }
   ],
   "source": [
    "cat_colnames = train_df.select_dtypes(include='object').columns.tolist()\n",
    "cat_colnames"
   ]
  },
  {
   "cell_type": "code",
   "execution_count": 191,
   "id": "f6bfb343",
   "metadata": {},
   "outputs": [
    {
     "name": "stdout",
     "output_type": "stream",
     "text": [
      "Ecology_2\n",
      "\n",
      "B    9903\n",
      "A      97\n",
      "Name: Ecology_2, dtype: int64\n",
      "****************************************************************************************************\n",
      "\n",
      "Ecology_3\n",
      "\n",
      "B    9725\n",
      "A     275\n",
      "Name: Ecology_3, dtype: int64\n",
      "****************************************************************************************************\n",
      "\n",
      "Shops_2\n",
      "\n",
      "B    9175\n",
      "A     825\n",
      "Name: Shops_2, dtype: int64\n",
      "****************************************************************************************************\n",
      "\n"
     ]
    }
   ],
   "source": [
    "for cat_colname in cat_colnames[2:]:\n",
    "    print(str(cat_colname) + '\\n\\n' + str(train_df[cat_colname].value_counts()) + '\\n' + '*' * 100 + '\\n')"
   ]
  },
  {
   "cell_type": "markdown",
   "id": "cabd67db",
   "metadata": {},
   "source": [
    "## Обработка выбросов"
   ]
  },
  {
   "cell_type": "markdown",
   "id": "3ca7cba4",
   "metadata": {},
   "source": [
    "### Rooms"
   ]
  },
  {
   "cell_type": "code",
   "execution_count": 192,
   "id": "1285181b",
   "metadata": {},
   "outputs": [
    {
     "data": {
      "text/plain": [
       "2.0     3880\n",
       "1.0     3705\n",
       "3.0     2235\n",
       "4.0      150\n",
       "5.0       18\n",
       "0.0        8\n",
       "10.0       2\n",
       "6.0        1\n",
       "19.0       1\n",
       "Name: Rooms, dtype: int64"
      ]
     },
     "execution_count": 192,
     "metadata": {},
     "output_type": "execute_result"
    }
   ],
   "source": [
    "train_df['Rooms'].value_counts()"
   ]
  },
  {
   "cell_type": "code",
   "execution_count": 193,
   "id": "5ac6fbc8",
   "metadata": {},
   "outputs": [],
   "source": [
    "train_df.loc[train_df['Rooms'].isin([0, 10, 19]), 'Rooms'] = train_df['Rooms'].median()"
   ]
  },
  {
   "cell_type": "code",
   "execution_count": 194,
   "id": "973962a5",
   "metadata": {},
   "outputs": [
    {
     "data": {
      "text/plain": [
       "2.0    3891\n",
       "1.0    3705\n",
       "3.0    2235\n",
       "4.0     150\n",
       "5.0      18\n",
       "6.0       1\n",
       "Name: Rooms, dtype: int64"
      ]
     },
     "execution_count": 194,
     "metadata": {},
     "output_type": "execute_result"
    }
   ],
   "source": [
    "train_df['Rooms'].value_counts()"
   ]
  },
  {
   "cell_type": "markdown",
   "id": "b5ecbf6c",
   "metadata": {},
   "source": [
    "### KitchenSquare"
   ]
  },
  {
   "cell_type": "code",
   "execution_count": 195,
   "id": "28bb3a12",
   "metadata": {},
   "outputs": [
    {
     "data": {
      "text/plain": [
       "1.0       2460\n",
       "8.0       1306\n",
       "5.0       1169\n",
       "10.0      1075\n",
       "6.0       1038\n",
       "9.0        843\n",
       "0.0        697\n",
       "7.0        609\n",
       "12.0       249\n",
       "11.0       233\n",
       "13.0        67\n",
       "14.0        51\n",
       "4.0         39\n",
       "15.0        31\n",
       "3.0         22\n",
       "16.0        16\n",
       "20.0        14\n",
       "17.0        12\n",
       "19.0        11\n",
       "18.0         6\n",
       "2.0          4\n",
       "22.0         3\n",
       "112.0        2\n",
       "51.0         2\n",
       "58.0         2\n",
       "37.0         2\n",
       "32.0         2\n",
       "41.0         2\n",
       "43.0         2\n",
       "30.0         2\n",
       "25.0         2\n",
       "39.0         1\n",
       "23.0         1\n",
       "123.0        1\n",
       "40.0         1\n",
       "48.0         1\n",
       "21.0         1\n",
       "72.0         1\n",
       "27.0         1\n",
       "63.0         1\n",
       "1970.0       1\n",
       "29.0         1\n",
       "66.0         1\n",
       "2014.0       1\n",
       "31.0         1\n",
       "78.0         1\n",
       "35.0         1\n",
       "42.0         1\n",
       "73.0         1\n",
       "60.0         1\n",
       "84.0         1\n",
       "26.0         1\n",
       "54.0         1\n",
       "36.0         1\n",
       "53.0         1\n",
       "96.0         1\n",
       "62.0         1\n",
       "75.0         1\n",
       "Name: KitchenSquare, dtype: int64"
      ]
     },
     "execution_count": 195,
     "metadata": {},
     "output_type": "execute_result"
    }
   ],
   "source": [
    "train_df['KitchenSquare'].value_counts()"
   ]
  },
  {
   "cell_type": "code",
   "execution_count": 196,
   "id": "2cfc4884",
   "metadata": {},
   "outputs": [],
   "source": [
    "train_df = train_df[train_df['KitchenSquare'].isnull() |\n",
    "                    (train_df['KitchenSquare'] < train_df['KitchenSquare'].quantile(.99)) &\n",
    "                    (train_df['KitchenSquare'] > train_df['KitchenSquare'].quantile(.01))]"
   ]
  },
  {
   "cell_type": "code",
   "execution_count": 197,
   "id": "237dda8f",
   "metadata": {},
   "outputs": [
    {
     "data": {
      "text/plain": [
       "1.0     2460\n",
       "8.0     1306\n",
       "5.0     1169\n",
       "10.0    1075\n",
       "6.0     1038\n",
       "9.0      843\n",
       "7.0      609\n",
       "12.0     249\n",
       "11.0     233\n",
       "13.0      67\n",
       "14.0      51\n",
       "4.0       39\n",
       "15.0      31\n",
       "3.0       22\n",
       "2.0        4\n",
       "Name: KitchenSquare, dtype: int64"
      ]
     },
     "execution_count": 197,
     "metadata": {},
     "output_type": "execute_result"
    }
   ],
   "source": [
    "train_df['KitchenSquare'].value_counts()"
   ]
  },
  {
   "cell_type": "markdown",
   "id": "6b732521",
   "metadata": {},
   "source": [
    "### Square"
   ]
  },
  {
   "cell_type": "code",
   "execution_count": 198,
   "id": "bdbc5e03",
   "metadata": {},
   "outputs": [
    {
     "data": {
      "text/plain": [
       "51.576501    1\n",
       "29.648057    1\n",
       "60.160707    1\n",
       "51.971604    1\n",
       "35.334949    1\n",
       "            ..\n",
       "40.453850    1\n",
       "62.359625    1\n",
       "34.713249    1\n",
       "49.214547    1\n",
       "62.576380    1\n",
       "Name: Square, Length: 9196, dtype: int64"
      ]
     },
     "execution_count": 198,
     "metadata": {},
     "output_type": "execute_result"
    }
   ],
   "source": [
    "train_df['Square'].value_counts()"
   ]
  },
  {
   "cell_type": "code",
   "execution_count": 199,
   "id": "b174801c",
   "metadata": {},
   "outputs": [],
   "source": [
    "train_df = train_df[train_df['Square'].isnull() |\n",
    "                    (train_df['Square'] < train_df['Square'].quantile(.99)) &\n",
    "                    (train_df['Square'] > train_df['Square'].quantile(.01))]\n"
   ]
  },
  {
   "cell_type": "code",
   "execution_count": 200,
   "id": "7388c8ea",
   "metadata": {},
   "outputs": [
    {
     "data": {
      "text/plain": [
       "51.576501    1\n",
       "76.370258    1\n",
       "33.071807    1\n",
       "78.438265    1\n",
       "83.978425    1\n",
       "            ..\n",
       "34.713249    1\n",
       "49.214547    1\n",
       "42.389567    1\n",
       "61.408929    1\n",
       "62.576380    1\n",
       "Name: Square, Length: 9012, dtype: int64"
      ]
     },
     "execution_count": 200,
     "metadata": {},
     "output_type": "execute_result"
    }
   ],
   "source": [
    "train_df['Square'].value_counts()"
   ]
  },
  {
   "cell_type": "markdown",
   "id": "d2d60862",
   "metadata": {},
   "source": [
    "### LifeSquare"
   ]
  },
  {
   "cell_type": "code",
   "execution_count": 201,
   "id": "1545c4c4",
   "metadata": {},
   "outputs": [],
   "source": [
    "train_df = train_df[train_df['LifeSquare'].isnull() |\n",
    "                    (train_df['LifeSquare'] < train_df['LifeSquare'].quantile(.99)) &\n",
    "                    (train_df['LifeSquare'] > train_df['LifeSquare'].quantile(.01))]\n"
   ]
  },
  {
   "cell_type": "code",
   "execution_count": 202,
   "id": "ad867d31",
   "metadata": {},
   "outputs": [
    {
     "data": {
      "text/plain": [
       "48.650696    1\n",
       "20.145058    1\n",
       "33.953791    1\n",
       "47.392015    1\n",
       "30.749207    1\n",
       "            ..\n",
       "31.585563    1\n",
       "39.450817    1\n",
       "43.906900    1\n",
       "28.585711    1\n",
       "3.943299     1\n",
       "Name: LifeSquare, Length: 7281, dtype: int64"
      ]
     },
     "execution_count": 202,
     "metadata": {},
     "output_type": "execute_result"
    }
   ],
   "source": [
    "train_df['LifeSquare'].value_counts()"
   ]
  },
  {
   "cell_type": "code",
   "execution_count": 203,
   "id": "a7ca3725",
   "metadata": {},
   "outputs": [
    {
     "data": {
      "text/html": [
       "<div>\n",
       "<style scoped>\n",
       "    .dataframe tbody tr th:only-of-type {\n",
       "        vertical-align: middle;\n",
       "    }\n",
       "\n",
       "    .dataframe tbody tr th {\n",
       "        vertical-align: top;\n",
       "    }\n",
       "\n",
       "    .dataframe thead th {\n",
       "        text-align: right;\n",
       "    }\n",
       "</style>\n",
       "<table border=\"1\" class=\"dataframe\">\n",
       "  <thead>\n",
       "    <tr style=\"text-align: right;\">\n",
       "      <th></th>\n",
       "      <th>Rooms</th>\n",
       "      <th>Square</th>\n",
       "      <th>LifeSquare</th>\n",
       "      <th>KitchenSquare</th>\n",
       "      <th>Floor</th>\n",
       "      <th>HouseFloor</th>\n",
       "      <th>HouseYear</th>\n",
       "      <th>Ecology_1</th>\n",
       "      <th>Social_1</th>\n",
       "      <th>Social_2</th>\n",
       "      <th>Social_3</th>\n",
       "      <th>Healthcare_1</th>\n",
       "      <th>Helthcare_2</th>\n",
       "      <th>Shops_1</th>\n",
       "      <th>Price</th>\n",
       "    </tr>\n",
       "  </thead>\n",
       "  <tbody>\n",
       "    <tr>\n",
       "      <th>count</th>\n",
       "      <td>644.000000</td>\n",
       "      <td>644.000000</td>\n",
       "      <td>644.000000</td>\n",
       "      <td>644.000000</td>\n",
       "      <td>644.000000</td>\n",
       "      <td>644.000000</td>\n",
       "      <td>644.000000</td>\n",
       "      <td>644.000000</td>\n",
       "      <td>644.000000</td>\n",
       "      <td>644.000000</td>\n",
       "      <td>644.000000</td>\n",
       "      <td>248.000000</td>\n",
       "      <td>644.000000</td>\n",
       "      <td>644.000000</td>\n",
       "      <td>644.000000</td>\n",
       "    </tr>\n",
       "    <tr>\n",
       "      <th>mean</th>\n",
       "      <td>1.645963</td>\n",
       "      <td>53.692328</td>\n",
       "      <td>53.725957</td>\n",
       "      <td>4.819876</td>\n",
       "      <td>9.956522</td>\n",
       "      <td>14.810559</td>\n",
       "      <td>2000.829193</td>\n",
       "      <td>0.107896</td>\n",
       "      <td>16.105590</td>\n",
       "      <td>3705.178571</td>\n",
       "      <td>9.203416</td>\n",
       "      <td>892.032258</td>\n",
       "      <td>0.883540</td>\n",
       "      <td>3.462733</td>\n",
       "      <td>190408.985318</td>\n",
       "    </tr>\n",
       "    <tr>\n",
       "      <th>std</th>\n",
       "      <td>0.734910</td>\n",
       "      <td>14.369534</td>\n",
       "      <td>14.342879</td>\n",
       "      <td>4.325609</td>\n",
       "      <td>5.818775</td>\n",
       "      <td>8.621548</td>\n",
       "      <td>19.717807</td>\n",
       "      <td>0.110181</td>\n",
       "      <td>16.936659</td>\n",
       "      <td>3941.838803</td>\n",
       "      <td>29.556924</td>\n",
       "      <td>724.040819</td>\n",
       "      <td>1.350229</td>\n",
       "      <td>5.308244</td>\n",
       "      <td>85017.104711</td>\n",
       "    </tr>\n",
       "    <tr>\n",
       "      <th>min</th>\n",
       "      <td>1.000000</td>\n",
       "      <td>30.190297</td>\n",
       "      <td>22.892380</td>\n",
       "      <td>1.000000</td>\n",
       "      <td>1.000000</td>\n",
       "      <td>0.000000</td>\n",
       "      <td>1918.000000</td>\n",
       "      <td>0.000000</td>\n",
       "      <td>0.000000</td>\n",
       "      <td>168.000000</td>\n",
       "      <td>0.000000</td>\n",
       "      <td>30.000000</td>\n",
       "      <td>0.000000</td>\n",
       "      <td>0.000000</td>\n",
       "      <td>59877.592523</td>\n",
       "    </tr>\n",
       "    <tr>\n",
       "      <th>25%</th>\n",
       "      <td>1.000000</td>\n",
       "      <td>41.318307</td>\n",
       "      <td>41.593619</td>\n",
       "      <td>1.000000</td>\n",
       "      <td>5.000000</td>\n",
       "      <td>10.000000</td>\n",
       "      <td>1977.000000</td>\n",
       "      <td>0.011654</td>\n",
       "      <td>2.000000</td>\n",
       "      <td>629.000000</td>\n",
       "      <td>0.000000</td>\n",
       "      <td>540.000000</td>\n",
       "      <td>0.000000</td>\n",
       "      <td>0.000000</td>\n",
       "      <td>132333.271569</td>\n",
       "    </tr>\n",
       "    <tr>\n",
       "      <th>50%</th>\n",
       "      <td>1.000000</td>\n",
       "      <td>50.627139</td>\n",
       "      <td>50.783814</td>\n",
       "      <td>1.000000</td>\n",
       "      <td>9.000000</td>\n",
       "      <td>17.000000</td>\n",
       "      <td>2015.000000</td>\n",
       "      <td>0.072158</td>\n",
       "      <td>6.000000</td>\n",
       "      <td>1564.000000</td>\n",
       "      <td>1.000000</td>\n",
       "      <td>705.000000</td>\n",
       "      <td>0.000000</td>\n",
       "      <td>1.000000</td>\n",
       "      <td>171656.352195</td>\n",
       "    </tr>\n",
       "    <tr>\n",
       "      <th>75%</th>\n",
       "      <td>2.000000</td>\n",
       "      <td>64.372282</td>\n",
       "      <td>64.194495</td>\n",
       "      <td>10.000000</td>\n",
       "      <td>14.000000</td>\n",
       "      <td>17.000000</td>\n",
       "      <td>2017.000000</td>\n",
       "      <td>0.199686</td>\n",
       "      <td>26.000000</td>\n",
       "      <td>6141.000000</td>\n",
       "      <td>4.000000</td>\n",
       "      <td>1046.000000</td>\n",
       "      <td>2.000000</td>\n",
       "      <td>5.000000</td>\n",
       "      <td>226809.233538</td>\n",
       "    </tr>\n",
       "    <tr>\n",
       "      <th>max</th>\n",
       "      <td>5.000000</td>\n",
       "      <td>89.118209</td>\n",
       "      <td>86.386228</td>\n",
       "      <td>15.000000</td>\n",
       "      <td>28.000000</td>\n",
       "      <td>117.000000</td>\n",
       "      <td>2020.000000</td>\n",
       "      <td>0.486246</td>\n",
       "      <td>74.000000</td>\n",
       "      <td>19083.000000</td>\n",
       "      <td>141.000000</td>\n",
       "      <td>4508.000000</td>\n",
       "      <td>6.000000</td>\n",
       "      <td>23.000000</td>\n",
       "      <td>573539.701956</td>\n",
       "    </tr>\n",
       "  </tbody>\n",
       "</table>\n",
       "</div>"
      ],
      "text/plain": [
       "            Rooms      Square  LifeSquare  KitchenSquare       Floor  \\\n",
       "count  644.000000  644.000000  644.000000     644.000000  644.000000   \n",
       "mean     1.645963   53.692328   53.725957       4.819876    9.956522   \n",
       "std      0.734910   14.369534   14.342879       4.325609    5.818775   \n",
       "min      1.000000   30.190297   22.892380       1.000000    1.000000   \n",
       "25%      1.000000   41.318307   41.593619       1.000000    5.000000   \n",
       "50%      1.000000   50.627139   50.783814       1.000000    9.000000   \n",
       "75%      2.000000   64.372282   64.194495      10.000000   14.000000   \n",
       "max      5.000000   89.118209   86.386228      15.000000   28.000000   \n",
       "\n",
       "       HouseFloor    HouseYear   Ecology_1    Social_1      Social_2  \\\n",
       "count  644.000000   644.000000  644.000000  644.000000    644.000000   \n",
       "mean    14.810559  2000.829193    0.107896   16.105590   3705.178571   \n",
       "std      8.621548    19.717807    0.110181   16.936659   3941.838803   \n",
       "min      0.000000  1918.000000    0.000000    0.000000    168.000000   \n",
       "25%     10.000000  1977.000000    0.011654    2.000000    629.000000   \n",
       "50%     17.000000  2015.000000    0.072158    6.000000   1564.000000   \n",
       "75%     17.000000  2017.000000    0.199686   26.000000   6141.000000   \n",
       "max    117.000000  2020.000000    0.486246   74.000000  19083.000000   \n",
       "\n",
       "         Social_3  Healthcare_1  Helthcare_2     Shops_1          Price  \n",
       "count  644.000000    248.000000   644.000000  644.000000     644.000000  \n",
       "mean     9.203416    892.032258     0.883540    3.462733  190408.985318  \n",
       "std     29.556924    724.040819     1.350229    5.308244   85017.104711  \n",
       "min      0.000000     30.000000     0.000000    0.000000   59877.592523  \n",
       "25%      0.000000    540.000000     0.000000    0.000000  132333.271569  \n",
       "50%      1.000000    705.000000     0.000000    1.000000  171656.352195  \n",
       "75%      4.000000   1046.000000     2.000000    5.000000  226809.233538  \n",
       "max    141.000000   4508.000000     6.000000   23.000000  573539.701956  "
      ]
     },
     "execution_count": 203,
     "metadata": {},
     "output_type": "execute_result"
    }
   ],
   "source": [
    "mask = train_df[\"Square\"] < train_df[\"KitchenSquare\"] + train_df[\"LifeSquare\"]\n",
    "train_df.loc[mask].describe()"
   ]
  },
  {
   "cell_type": "code",
   "execution_count": 204,
   "id": "8ddc682b",
   "metadata": {},
   "outputs": [],
   "source": [
    "train_df.loc[train_df['LifeSquare'] < 10, 'LifeSquare'] = 10"
   ]
  },
  {
   "cell_type": "code",
   "execution_count": 205,
   "id": "66e17473",
   "metadata": {},
   "outputs": [],
   "source": [
    "train_df.loc[train_df['KitchenSquare'] < 3, 'KitchenSquare'] = 3"
   ]
  },
  {
   "cell_type": "markdown",
   "id": "a6f94183",
   "metadata": {},
   "source": [
    "### HouseFloor, Floor"
   ]
  },
  {
   "cell_type": "code",
   "execution_count": 206,
   "id": "43a44795",
   "metadata": {},
   "outputs": [
    {
     "data": {
      "text/plain": [
       "array([  0.,   1.,   2.,   3.,   4.,   5.,   6.,   7.,   8.,   9.,  10.,\n",
       "        11.,  12.,  13.,  14.,  15.,  16.,  17.,  18.,  19.,  20.,  21.,\n",
       "        22.,  23.,  24.,  25.,  26.,  27.,  28.,  29.,  30.,  32.,  37.,\n",
       "        39.,  40.,  44.,  45.,  48.,  99., 117.])"
      ]
     },
     "execution_count": 206,
     "metadata": {},
     "output_type": "execute_result"
    }
   ],
   "source": [
    "train_df['HouseFloor'].sort_values().unique()"
   ]
  },
  {
   "cell_type": "code",
   "execution_count": 207,
   "id": "41e580b9",
   "metadata": {},
   "outputs": [
    {
     "data": {
      "text/plain": [
       "array([ 1,  2,  3,  4,  5,  6,  7,  8,  9, 10, 11, 12, 13, 14, 15, 16, 17,\n",
       "       18, 19, 20, 21, 22, 23, 24, 25, 26, 27, 28, 31, 32, 33, 42],\n",
       "      dtype=int64)"
      ]
     },
     "execution_count": 207,
     "metadata": {},
     "output_type": "execute_result"
    }
   ],
   "source": [
    "train_df['Floor'].sort_values().unique()"
   ]
  },
  {
   "cell_type": "code",
   "execution_count": 208,
   "id": "67099aa1",
   "metadata": {},
   "outputs": [],
   "source": [
    "train_df.loc[train_df['HouseFloor'] == 0, 'HouseFloor'] = train_df['HouseFloor'].median()"
   ]
  },
  {
   "cell_type": "code",
   "execution_count": 209,
   "id": "373dd355",
   "metadata": {},
   "outputs": [
    {
     "name": "stdout",
     "output_type": "stream",
     "text": [
      "1396\n"
     ]
    }
   ],
   "source": [
    "np.random.seed(27)\n",
    "floor_outliers = train_df[train_df['Floor'] > train_df['HouseFloor']].index\n",
    "print(len(floor_outliers))\n",
    "\n",
    "train_df.loc[floor_outliers, 'Floor'] = train_df.loc[floor_outliers, 'HouseFloor'].apply(\n",
    "    lambda x: random.randint(1, x)\n",
    ")"
   ]
  },
  {
   "cell_type": "markdown",
   "id": "28a20892",
   "metadata": {},
   "source": [
    "### HouseYear"
   ]
  },
  {
   "cell_type": "code",
   "execution_count": 210,
   "id": "44c8386e",
   "metadata": {},
   "outputs": [
    {
     "data": {
      "text/plain": [
       "1497    20052011\n",
       "4189        4968\n",
       "918         2020\n",
       "9674        2020\n",
       "1499        2020\n",
       "          ...   \n",
       "1380        1917\n",
       "8144        1917\n",
       "5053        1917\n",
       "7611        1916\n",
       "910         1914\n",
       "Name: HouseYear, Length: 8862, dtype: int64"
      ]
     },
     "execution_count": 210,
     "metadata": {},
     "output_type": "execute_result"
    }
   ],
   "source": [
    "train_df['HouseYear'].sort_values(ascending=False)"
   ]
  },
  {
   "cell_type": "code",
   "execution_count": 211,
   "id": "b069ca2f",
   "metadata": {},
   "outputs": [],
   "source": [
    "train_df.loc[train_df['HouseYear'] > 2020, 'HouseYear'] = 2020"
   ]
  },
  {
   "cell_type": "markdown",
   "id": "45a70655",
   "metadata": {},
   "source": [
    "### Обработка пропусков"
   ]
  },
  {
   "cell_type": "code",
   "execution_count": 212,
   "id": "03fed1fc",
   "metadata": {},
   "outputs": [
    {
     "data": {
      "text/plain": [
       "Id                  0\n",
       "DistrictId          0\n",
       "Rooms               0\n",
       "Square              0\n",
       "LifeSquare       1581\n",
       "KitchenSquare       0\n",
       "Floor               0\n",
       "HouseFloor          0\n",
       "HouseYear           0\n",
       "Ecology_1           0\n",
       "Ecology_2           0\n",
       "Ecology_3           0\n",
       "Social_1            0\n",
       "Social_2            0\n",
       "Social_3            0\n",
       "Healthcare_1     4081\n",
       "Helthcare_2         0\n",
       "Shops_1             0\n",
       "Shops_2             0\n",
       "Price               0\n",
       "dtype: int64"
      ]
     },
     "execution_count": 212,
     "metadata": {},
     "output_type": "execute_result"
    }
   ],
   "source": [
    "train_df.isna().sum()"
   ]
  },
  {
   "cell_type": "code",
   "execution_count": 213,
   "id": "3d788eb0",
   "metadata": {},
   "outputs": [
    {
     "data": {
      "text/html": [
       "<div>\n",
       "<style scoped>\n",
       "    .dataframe tbody tr th:only-of-type {\n",
       "        vertical-align: middle;\n",
       "    }\n",
       "\n",
       "    .dataframe tbody tr th {\n",
       "        vertical-align: top;\n",
       "    }\n",
       "\n",
       "    .dataframe thead th {\n",
       "        text-align: right;\n",
       "    }\n",
       "</style>\n",
       "<table border=\"1\" class=\"dataframe\">\n",
       "  <thead>\n",
       "    <tr style=\"text-align: right;\">\n",
       "      <th></th>\n",
       "      <th>Square</th>\n",
       "      <th>LifeSquare</th>\n",
       "      <th>KitchenSquare</th>\n",
       "    </tr>\n",
       "  </thead>\n",
       "  <tbody>\n",
       "    <tr>\n",
       "      <th>0</th>\n",
       "      <td>47.981561</td>\n",
       "      <td>29.442751</td>\n",
       "      <td>6.0</td>\n",
       "    </tr>\n",
       "    <tr>\n",
       "      <th>1</th>\n",
       "      <td>65.683640</td>\n",
       "      <td>40.049543</td>\n",
       "      <td>8.0</td>\n",
       "    </tr>\n",
       "    <tr>\n",
       "      <th>3</th>\n",
       "      <td>53.352981</td>\n",
       "      <td>52.731512</td>\n",
       "      <td>9.0</td>\n",
       "    </tr>\n",
       "    <tr>\n",
       "      <th>4</th>\n",
       "      <td>39.649192</td>\n",
       "      <td>23.776169</td>\n",
       "      <td>7.0</td>\n",
       "    </tr>\n",
       "    <tr>\n",
       "      <th>5</th>\n",
       "      <td>80.384479</td>\n",
       "      <td>46.683720</td>\n",
       "      <td>12.0</td>\n",
       "    </tr>\n",
       "    <tr>\n",
       "      <th>6</th>\n",
       "      <td>62.254114</td>\n",
       "      <td>37.160377</td>\n",
       "      <td>7.0</td>\n",
       "    </tr>\n",
       "    <tr>\n",
       "      <th>8</th>\n",
       "      <td>64.511437</td>\n",
       "      <td>NaN</td>\n",
       "      <td>3.0</td>\n",
       "    </tr>\n",
       "    <tr>\n",
       "      <th>9</th>\n",
       "      <td>46.461409</td>\n",
       "      <td>18.915552</td>\n",
       "      <td>8.0</td>\n",
       "    </tr>\n",
       "    <tr>\n",
       "      <th>10</th>\n",
       "      <td>46.304907</td>\n",
       "      <td>27.922584</td>\n",
       "      <td>6.0</td>\n",
       "    </tr>\n",
       "    <tr>\n",
       "      <th>11</th>\n",
       "      <td>68.808859</td>\n",
       "      <td>45.736906</td>\n",
       "      <td>7.0</td>\n",
       "    </tr>\n",
       "  </tbody>\n",
       "</table>\n",
       "</div>"
      ],
      "text/plain": [
       "       Square  LifeSquare  KitchenSquare\n",
       "0   47.981561   29.442751            6.0\n",
       "1   65.683640   40.049543            8.0\n",
       "3   53.352981   52.731512            9.0\n",
       "4   39.649192   23.776169            7.0\n",
       "5   80.384479   46.683720           12.0\n",
       "6   62.254114   37.160377            7.0\n",
       "8   64.511437         NaN            3.0\n",
       "9   46.461409   18.915552            8.0\n",
       "10  46.304907   27.922584            6.0\n",
       "11  68.808859   45.736906            7.0"
      ]
     },
     "execution_count": 213,
     "metadata": {},
     "output_type": "execute_result"
    }
   ],
   "source": [
    "train_df[['Square', 'LifeSquare', 'KitchenSquare']].head(10)"
   ]
  },
  {
   "cell_type": "markdown",
   "id": "fa48cc09",
   "metadata": {},
   "source": [
    "#### LifeSquare"
   ]
  },
  {
   "cell_type": "code",
   "execution_count": 214,
   "id": "8d751382",
   "metadata": {},
   "outputs": [
    {
     "data": {
      "text/plain": [
       "32.46080944051039"
      ]
     },
     "execution_count": 214,
     "metadata": {},
     "output_type": "execute_result"
    }
   ],
   "source": [
    "train_df['LifeSquare'].median()"
   ]
  },
  {
   "cell_type": "code",
   "execution_count": 215,
   "id": "53ea20c3",
   "metadata": {},
   "outputs": [
    {
     "data": {
      "text/plain": [
       "11.491333295222521"
      ]
     },
     "execution_count": 215,
     "metadata": {},
     "output_type": "execute_result"
    }
   ],
   "source": [
    "square_med_diff = (train_df.loc[train_df['LifeSquare'].notnull(), 'Square'] -\\\n",
    "                   train_df.loc[train_df['LifeSquare'].notnull(), 'LifeSquare'] -\\\n",
    "                   train_df.loc[train_df['LifeSquare'].notnull(), 'KitchenSquare']).median()\n",
    "\n",
    "square_med_diff"
   ]
  },
  {
   "cell_type": "code",
   "execution_count": 216,
   "id": "872898e3",
   "metadata": {},
   "outputs": [],
   "source": [
    "train_df.loc[train_df['LifeSquare'].isnull(), 'LifeSquare'] =\\\n",
    "train_df.loc[train_df['LifeSquare'].isnull(), 'Square'] -\\\n",
    "train_df.loc[train_df['LifeSquare'].isnull(), 'KitchenSquare'] -\\\n",
    "square_med_diff"
   ]
  },
  {
   "cell_type": "code",
   "execution_count": 217,
   "id": "8324c762",
   "metadata": {},
   "outputs": [
    {
     "data": {
      "text/plain": [
       "33.273163023068946"
      ]
     },
     "execution_count": 217,
     "metadata": {},
     "output_type": "execute_result"
    }
   ],
   "source": [
    "train_df['LifeSquare'].median()"
   ]
  },
  {
   "cell_type": "markdown",
   "id": "ca298ecd",
   "metadata": {},
   "source": [
    "#### Healthcare_1"
   ]
  },
  {
   "cell_type": "code",
   "execution_count": 218,
   "id": "35e973a1",
   "metadata": {},
   "outputs": [
    {
     "data": {
      "text/plain": [
       "0       NaN\n",
       "1     240.0\n",
       "3    1084.0\n",
       "4    2078.0\n",
       "5     990.0\n",
       "Name: Healthcare_1, dtype: float64"
      ]
     },
     "execution_count": 218,
     "metadata": {},
     "output_type": "execute_result"
    }
   ],
   "source": [
    "train_df['Healthcare_1'].head()"
   ]
  },
  {
   "cell_type": "code",
   "execution_count": 219,
   "id": "b0f71272",
   "metadata": {},
   "outputs": [],
   "source": [
    "train_df.loc[train_df['Healthcare_1'].isnull(), 'Healthcare_1'] = train_df['Healthcare_1'].median()"
   ]
  },
  {
   "cell_type": "markdown",
   "id": "e5ab2c22",
   "metadata": {},
   "source": [
    "### Построение новых признаков\n",
    "#### Dummies"
   ]
  },
  {
   "cell_type": "code",
   "execution_count": 220,
   "id": "d714281c",
   "metadata": {},
   "outputs": [],
   "source": [
    "binary_to_numbers = {'A': 0, 'B': 1}\n",
    "\n",
    "train_df['Ecology_2'] = train_df['Ecology_2'].replace(binary_to_numbers)\n",
    "train_df['Ecology_3'] = train_df['Ecology_3'].replace(binary_to_numbers)\n",
    "train_df['Shops_2'] = train_df['Shops_2'].replace(binary_to_numbers)"
   ]
  },
  {
   "cell_type": "code",
   "execution_count": 221,
   "id": "e51cd6f4",
   "metadata": {},
   "outputs": [
    {
     "data": {
      "text/html": [
       "<div>\n",
       "<style scoped>\n",
       "    .dataframe tbody tr th:only-of-type {\n",
       "        vertical-align: middle;\n",
       "    }\n",
       "\n",
       "    .dataframe tbody tr th {\n",
       "        vertical-align: top;\n",
       "    }\n",
       "\n",
       "    .dataframe thead th {\n",
       "        text-align: right;\n",
       "    }\n",
       "</style>\n",
       "<table border=\"1\" class=\"dataframe\">\n",
       "  <thead>\n",
       "    <tr style=\"text-align: right;\">\n",
       "      <th></th>\n",
       "      <th>Ecology_2</th>\n",
       "      <th>Ecology_3</th>\n",
       "      <th>Shops_2</th>\n",
       "    </tr>\n",
       "  </thead>\n",
       "  <tbody>\n",
       "    <tr>\n",
       "      <th>0</th>\n",
       "      <td>1</td>\n",
       "      <td>1</td>\n",
       "      <td>1</td>\n",
       "    </tr>\n",
       "    <tr>\n",
       "      <th>1</th>\n",
       "      <td>1</td>\n",
       "      <td>1</td>\n",
       "      <td>1</td>\n",
       "    </tr>\n",
       "    <tr>\n",
       "      <th>3</th>\n",
       "      <td>1</td>\n",
       "      <td>1</td>\n",
       "      <td>1</td>\n",
       "    </tr>\n",
       "    <tr>\n",
       "      <th>4</th>\n",
       "      <td>1</td>\n",
       "      <td>1</td>\n",
       "      <td>1</td>\n",
       "    </tr>\n",
       "    <tr>\n",
       "      <th>5</th>\n",
       "      <td>1</td>\n",
       "      <td>1</td>\n",
       "      <td>1</td>\n",
       "    </tr>\n",
       "    <tr>\n",
       "      <th>6</th>\n",
       "      <td>1</td>\n",
       "      <td>1</td>\n",
       "      <td>1</td>\n",
       "    </tr>\n",
       "    <tr>\n",
       "      <th>8</th>\n",
       "      <td>1</td>\n",
       "      <td>1</td>\n",
       "      <td>1</td>\n",
       "    </tr>\n",
       "    <tr>\n",
       "      <th>9</th>\n",
       "      <td>1</td>\n",
       "      <td>1</td>\n",
       "      <td>1</td>\n",
       "    </tr>\n",
       "    <tr>\n",
       "      <th>10</th>\n",
       "      <td>1</td>\n",
       "      <td>1</td>\n",
       "      <td>1</td>\n",
       "    </tr>\n",
       "    <tr>\n",
       "      <th>11</th>\n",
       "      <td>1</td>\n",
       "      <td>1</td>\n",
       "      <td>1</td>\n",
       "    </tr>\n",
       "  </tbody>\n",
       "</table>\n",
       "</div>"
      ],
      "text/plain": [
       "    Ecology_2  Ecology_3  Shops_2\n",
       "0           1          1        1\n",
       "1           1          1        1\n",
       "3           1          1        1\n",
       "4           1          1        1\n",
       "5           1          1        1\n",
       "6           1          1        1\n",
       "8           1          1        1\n",
       "9           1          1        1\n",
       "10          1          1        1\n",
       "11          1          1        1"
      ]
     },
     "execution_count": 221,
     "metadata": {},
     "output_type": "execute_result"
    }
   ],
   "source": [
    "train_df[['Ecology_2', 'Ecology_3', 'Shops_2']].head(10)"
   ]
  },
  {
   "cell_type": "markdown",
   "id": "1c890574",
   "metadata": {},
   "source": [
    "#### DistrictSize, IsDistrictLarge"
   ]
  },
  {
   "cell_type": "code",
   "execution_count": 222,
   "id": "8f9c51c4",
   "metadata": {},
   "outputs": [
    {
     "data": {
      "text/html": [
       "<div>\n",
       "<style scoped>\n",
       "    .dataframe tbody tr th:only-of-type {\n",
       "        vertical-align: middle;\n",
       "    }\n",
       "\n",
       "    .dataframe tbody tr th {\n",
       "        vertical-align: top;\n",
       "    }\n",
       "\n",
       "    .dataframe thead th {\n",
       "        text-align: right;\n",
       "    }\n",
       "</style>\n",
       "<table border=\"1\" class=\"dataframe\">\n",
       "  <thead>\n",
       "    <tr style=\"text-align: right;\">\n",
       "      <th></th>\n",
       "      <th>DistrictId</th>\n",
       "      <th>DistrictSize</th>\n",
       "    </tr>\n",
       "  </thead>\n",
       "  <tbody>\n",
       "    <tr>\n",
       "      <th>0</th>\n",
       "      <td>27</td>\n",
       "      <td>630</td>\n",
       "    </tr>\n",
       "    <tr>\n",
       "      <th>1</th>\n",
       "      <td>1</td>\n",
       "      <td>537</td>\n",
       "    </tr>\n",
       "    <tr>\n",
       "      <th>2</th>\n",
       "      <td>23</td>\n",
       "      <td>450</td>\n",
       "    </tr>\n",
       "    <tr>\n",
       "      <th>3</th>\n",
       "      <td>6</td>\n",
       "      <td>394</td>\n",
       "    </tr>\n",
       "    <tr>\n",
       "      <th>4</th>\n",
       "      <td>9</td>\n",
       "      <td>278</td>\n",
       "    </tr>\n",
       "  </tbody>\n",
       "</table>\n",
       "</div>"
      ],
      "text/plain": [
       "  DistrictId  DistrictSize\n",
       "0         27           630\n",
       "1          1           537\n",
       "2         23           450\n",
       "3          6           394\n",
       "4          9           278"
      ]
     },
     "execution_count": 222,
     "metadata": {},
     "output_type": "execute_result"
    }
   ],
   "source": [
    "district_size = train_df['DistrictId'].value_counts().reset_index()\\\n",
    "                    .rename(columns={'index':'DistrictId', 'DistrictId':'DistrictSize'})\n",
    "\n",
    "district_size.head()"
   ]
  },
  {
   "cell_type": "code",
   "execution_count": 223,
   "id": "10ee11a9",
   "metadata": {},
   "outputs": [
    {
     "data": {
      "text/html": [
       "<div>\n",
       "<style scoped>\n",
       "    .dataframe tbody tr th:only-of-type {\n",
       "        vertical-align: middle;\n",
       "    }\n",
       "\n",
       "    .dataframe tbody tr th {\n",
       "        vertical-align: top;\n",
       "    }\n",
       "\n",
       "    .dataframe thead th {\n",
       "        text-align: right;\n",
       "    }\n",
       "</style>\n",
       "<table border=\"1\" class=\"dataframe\">\n",
       "  <thead>\n",
       "    <tr style=\"text-align: right;\">\n",
       "      <th></th>\n",
       "      <th>Id</th>\n",
       "      <th>DistrictId</th>\n",
       "      <th>Rooms</th>\n",
       "      <th>Square</th>\n",
       "      <th>LifeSquare</th>\n",
       "      <th>KitchenSquare</th>\n",
       "      <th>Floor</th>\n",
       "      <th>HouseFloor</th>\n",
       "      <th>HouseYear</th>\n",
       "      <th>Ecology_1</th>\n",
       "      <th>...</th>\n",
       "      <th>Ecology_3</th>\n",
       "      <th>Social_1</th>\n",
       "      <th>Social_2</th>\n",
       "      <th>Social_3</th>\n",
       "      <th>Healthcare_1</th>\n",
       "      <th>Helthcare_2</th>\n",
       "      <th>Shops_1</th>\n",
       "      <th>Shops_2</th>\n",
       "      <th>Price</th>\n",
       "      <th>DistrictSize</th>\n",
       "    </tr>\n",
       "  </thead>\n",
       "  <tbody>\n",
       "    <tr>\n",
       "      <th>0</th>\n",
       "      <td>14038</td>\n",
       "      <td>35</td>\n",
       "      <td>2.0</td>\n",
       "      <td>47.981561</td>\n",
       "      <td>29.442751</td>\n",
       "      <td>6.0</td>\n",
       "      <td>7</td>\n",
       "      <td>9.0</td>\n",
       "      <td>1969</td>\n",
       "      <td>0.089040</td>\n",
       "      <td>...</td>\n",
       "      <td>1</td>\n",
       "      <td>33</td>\n",
       "      <td>7976</td>\n",
       "      <td>5</td>\n",
       "      <td>990.0</td>\n",
       "      <td>0</td>\n",
       "      <td>11</td>\n",
       "      <td>1</td>\n",
       "      <td>184966.930730</td>\n",
       "      <td>20</td>\n",
       "    </tr>\n",
       "    <tr>\n",
       "      <th>1</th>\n",
       "      <td>15053</td>\n",
       "      <td>41</td>\n",
       "      <td>3.0</td>\n",
       "      <td>65.683640</td>\n",
       "      <td>40.049543</td>\n",
       "      <td>8.0</td>\n",
       "      <td>7</td>\n",
       "      <td>9.0</td>\n",
       "      <td>1978</td>\n",
       "      <td>0.000070</td>\n",
       "      <td>...</td>\n",
       "      <td>1</td>\n",
       "      <td>46</td>\n",
       "      <td>10309</td>\n",
       "      <td>1</td>\n",
       "      <td>240.0</td>\n",
       "      <td>1</td>\n",
       "      <td>16</td>\n",
       "      <td>1</td>\n",
       "      <td>300009.450063</td>\n",
       "      <td>85</td>\n",
       "    </tr>\n",
       "    <tr>\n",
       "      <th>2</th>\n",
       "      <td>5809</td>\n",
       "      <td>58</td>\n",
       "      <td>2.0</td>\n",
       "      <td>53.352981</td>\n",
       "      <td>52.731512</td>\n",
       "      <td>9.0</td>\n",
       "      <td>8</td>\n",
       "      <td>17.0</td>\n",
       "      <td>1977</td>\n",
       "      <td>0.437885</td>\n",
       "      <td>...</td>\n",
       "      <td>1</td>\n",
       "      <td>23</td>\n",
       "      <td>5735</td>\n",
       "      <td>3</td>\n",
       "      <td>1084.0</td>\n",
       "      <td>0</td>\n",
       "      <td>5</td>\n",
       "      <td>1</td>\n",
       "      <td>175616.227217</td>\n",
       "      <td>146</td>\n",
       "    </tr>\n",
       "    <tr>\n",
       "      <th>3</th>\n",
       "      <td>10783</td>\n",
       "      <td>99</td>\n",
       "      <td>1.0</td>\n",
       "      <td>39.649192</td>\n",
       "      <td>23.776169</td>\n",
       "      <td>7.0</td>\n",
       "      <td>11</td>\n",
       "      <td>12.0</td>\n",
       "      <td>1976</td>\n",
       "      <td>0.012339</td>\n",
       "      <td>...</td>\n",
       "      <td>1</td>\n",
       "      <td>35</td>\n",
       "      <td>5776</td>\n",
       "      <td>1</td>\n",
       "      <td>2078.0</td>\n",
       "      <td>2</td>\n",
       "      <td>4</td>\n",
       "      <td>1</td>\n",
       "      <td>150226.531644</td>\n",
       "      <td>95</td>\n",
       "    </tr>\n",
       "    <tr>\n",
       "      <th>4</th>\n",
       "      <td>12915</td>\n",
       "      <td>59</td>\n",
       "      <td>3.0</td>\n",
       "      <td>80.384479</td>\n",
       "      <td>46.683720</td>\n",
       "      <td>12.0</td>\n",
       "      <td>5</td>\n",
       "      <td>17.0</td>\n",
       "      <td>2011</td>\n",
       "      <td>0.309479</td>\n",
       "      <td>...</td>\n",
       "      <td>1</td>\n",
       "      <td>35</td>\n",
       "      <td>7715</td>\n",
       "      <td>4</td>\n",
       "      <td>990.0</td>\n",
       "      <td>0</td>\n",
       "      <td>6</td>\n",
       "      <td>1</td>\n",
       "      <td>215898.447742</td>\n",
       "      <td>55</td>\n",
       "    </tr>\n",
       "  </tbody>\n",
       "</table>\n",
       "<p>5 rows × 21 columns</p>\n",
       "</div>"
      ],
      "text/plain": [
       "      Id DistrictId  Rooms     Square  LifeSquare  KitchenSquare  Floor  \\\n",
       "0  14038         35    2.0  47.981561   29.442751            6.0      7   \n",
       "1  15053         41    3.0  65.683640   40.049543            8.0      7   \n",
       "2   5809         58    2.0  53.352981   52.731512            9.0      8   \n",
       "3  10783         99    1.0  39.649192   23.776169            7.0     11   \n",
       "4  12915         59    3.0  80.384479   46.683720           12.0      5   \n",
       "\n",
       "   HouseFloor  HouseYear  Ecology_1  ...  Ecology_3  Social_1  Social_2  \\\n",
       "0         9.0       1969   0.089040  ...          1        33      7976   \n",
       "1         9.0       1978   0.000070  ...          1        46     10309   \n",
       "2        17.0       1977   0.437885  ...          1        23      5735   \n",
       "3        12.0       1976   0.012339  ...          1        35      5776   \n",
       "4        17.0       2011   0.309479  ...          1        35      7715   \n",
       "\n",
       "   Social_3  Healthcare_1  Helthcare_2  Shops_1  Shops_2          Price  \\\n",
       "0         5         990.0            0       11        1  184966.930730   \n",
       "1         1         240.0            1       16        1  300009.450063   \n",
       "2         3        1084.0            0        5        1  175616.227217   \n",
       "3         1        2078.0            2        4        1  150226.531644   \n",
       "4         4         990.0            0        6        1  215898.447742   \n",
       "\n",
       "   DistrictSize  \n",
       "0            20  \n",
       "1            85  \n",
       "2           146  \n",
       "3            95  \n",
       "4            55  \n",
       "\n",
       "[5 rows x 21 columns]"
      ]
     },
     "execution_count": 223,
     "metadata": {},
     "output_type": "execute_result"
    }
   ],
   "source": [
    "train_df = train_df.merge(district_size, on='DistrictId', how='left')\n",
    "train_df.head()"
   ]
  },
  {
   "cell_type": "code",
   "execution_count": 224,
   "id": "1bd886f1",
   "metadata": {},
   "outputs": [
    {
     "data": {
      "text/plain": [
       "False    4924\n",
       "True     3938\n",
       "Name: DistrictSize, dtype: int64"
      ]
     },
     "execution_count": 224,
     "metadata": {},
     "output_type": "execute_result"
    }
   ],
   "source": [
    "(train_df['DistrictSize'] > 100).value_counts()"
   ]
  },
  {
   "cell_type": "code",
   "execution_count": 225,
   "id": "f640779b",
   "metadata": {},
   "outputs": [
    {
     "data": {
      "text/html": [
       "<div>\n",
       "<style scoped>\n",
       "    .dataframe tbody tr th:only-of-type {\n",
       "        vertical-align: middle;\n",
       "    }\n",
       "\n",
       "    .dataframe tbody tr th {\n",
       "        vertical-align: top;\n",
       "    }\n",
       "\n",
       "    .dataframe thead th {\n",
       "        text-align: right;\n",
       "    }\n",
       "</style>\n",
       "<table border=\"1\" class=\"dataframe\">\n",
       "  <thead>\n",
       "    <tr style=\"text-align: right;\">\n",
       "      <th></th>\n",
       "      <th>Id</th>\n",
       "      <th>DistrictId</th>\n",
       "      <th>Rooms</th>\n",
       "      <th>Square</th>\n",
       "      <th>LifeSquare</th>\n",
       "      <th>KitchenSquare</th>\n",
       "      <th>Floor</th>\n",
       "      <th>HouseFloor</th>\n",
       "      <th>HouseYear</th>\n",
       "      <th>Ecology_1</th>\n",
       "      <th>...</th>\n",
       "      <th>Social_1</th>\n",
       "      <th>Social_2</th>\n",
       "      <th>Social_3</th>\n",
       "      <th>Healthcare_1</th>\n",
       "      <th>Helthcare_2</th>\n",
       "      <th>Shops_1</th>\n",
       "      <th>Shops_2</th>\n",
       "      <th>Price</th>\n",
       "      <th>DistrictSize</th>\n",
       "      <th>IsDistrictLarge</th>\n",
       "    </tr>\n",
       "  </thead>\n",
       "  <tbody>\n",
       "    <tr>\n",
       "      <th>0</th>\n",
       "      <td>14038</td>\n",
       "      <td>35</td>\n",
       "      <td>2.0</td>\n",
       "      <td>47.981561</td>\n",
       "      <td>29.442751</td>\n",
       "      <td>6.0</td>\n",
       "      <td>7</td>\n",
       "      <td>9.0</td>\n",
       "      <td>1969</td>\n",
       "      <td>0.089040</td>\n",
       "      <td>...</td>\n",
       "      <td>33</td>\n",
       "      <td>7976</td>\n",
       "      <td>5</td>\n",
       "      <td>990.0</td>\n",
       "      <td>0</td>\n",
       "      <td>11</td>\n",
       "      <td>1</td>\n",
       "      <td>184966.930730</td>\n",
       "      <td>20</td>\n",
       "      <td>0</td>\n",
       "    </tr>\n",
       "    <tr>\n",
       "      <th>1</th>\n",
       "      <td>15053</td>\n",
       "      <td>41</td>\n",
       "      <td>3.0</td>\n",
       "      <td>65.683640</td>\n",
       "      <td>40.049543</td>\n",
       "      <td>8.0</td>\n",
       "      <td>7</td>\n",
       "      <td>9.0</td>\n",
       "      <td>1978</td>\n",
       "      <td>0.000070</td>\n",
       "      <td>...</td>\n",
       "      <td>46</td>\n",
       "      <td>10309</td>\n",
       "      <td>1</td>\n",
       "      <td>240.0</td>\n",
       "      <td>1</td>\n",
       "      <td>16</td>\n",
       "      <td>1</td>\n",
       "      <td>300009.450063</td>\n",
       "      <td>85</td>\n",
       "      <td>0</td>\n",
       "    </tr>\n",
       "    <tr>\n",
       "      <th>2</th>\n",
       "      <td>5809</td>\n",
       "      <td>58</td>\n",
       "      <td>2.0</td>\n",
       "      <td>53.352981</td>\n",
       "      <td>52.731512</td>\n",
       "      <td>9.0</td>\n",
       "      <td>8</td>\n",
       "      <td>17.0</td>\n",
       "      <td>1977</td>\n",
       "      <td>0.437885</td>\n",
       "      <td>...</td>\n",
       "      <td>23</td>\n",
       "      <td>5735</td>\n",
       "      <td>3</td>\n",
       "      <td>1084.0</td>\n",
       "      <td>0</td>\n",
       "      <td>5</td>\n",
       "      <td>1</td>\n",
       "      <td>175616.227217</td>\n",
       "      <td>146</td>\n",
       "      <td>1</td>\n",
       "    </tr>\n",
       "    <tr>\n",
       "      <th>3</th>\n",
       "      <td>10783</td>\n",
       "      <td>99</td>\n",
       "      <td>1.0</td>\n",
       "      <td>39.649192</td>\n",
       "      <td>23.776169</td>\n",
       "      <td>7.0</td>\n",
       "      <td>11</td>\n",
       "      <td>12.0</td>\n",
       "      <td>1976</td>\n",
       "      <td>0.012339</td>\n",
       "      <td>...</td>\n",
       "      <td>35</td>\n",
       "      <td>5776</td>\n",
       "      <td>1</td>\n",
       "      <td>2078.0</td>\n",
       "      <td>2</td>\n",
       "      <td>4</td>\n",
       "      <td>1</td>\n",
       "      <td>150226.531644</td>\n",
       "      <td>95</td>\n",
       "      <td>0</td>\n",
       "    </tr>\n",
       "    <tr>\n",
       "      <th>4</th>\n",
       "      <td>12915</td>\n",
       "      <td>59</td>\n",
       "      <td>3.0</td>\n",
       "      <td>80.384479</td>\n",
       "      <td>46.683720</td>\n",
       "      <td>12.0</td>\n",
       "      <td>5</td>\n",
       "      <td>17.0</td>\n",
       "      <td>2011</td>\n",
       "      <td>0.309479</td>\n",
       "      <td>...</td>\n",
       "      <td>35</td>\n",
       "      <td>7715</td>\n",
       "      <td>4</td>\n",
       "      <td>990.0</td>\n",
       "      <td>0</td>\n",
       "      <td>6</td>\n",
       "      <td>1</td>\n",
       "      <td>215898.447742</td>\n",
       "      <td>55</td>\n",
       "      <td>0</td>\n",
       "    </tr>\n",
       "  </tbody>\n",
       "</table>\n",
       "<p>5 rows × 22 columns</p>\n",
       "</div>"
      ],
      "text/plain": [
       "      Id DistrictId  Rooms     Square  LifeSquare  KitchenSquare  Floor  \\\n",
       "0  14038         35    2.0  47.981561   29.442751            6.0      7   \n",
       "1  15053         41    3.0  65.683640   40.049543            8.0      7   \n",
       "2   5809         58    2.0  53.352981   52.731512            9.0      8   \n",
       "3  10783         99    1.0  39.649192   23.776169            7.0     11   \n",
       "4  12915         59    3.0  80.384479   46.683720           12.0      5   \n",
       "\n",
       "   HouseFloor  HouseYear  Ecology_1  ...  Social_1  Social_2  Social_3  \\\n",
       "0         9.0       1969   0.089040  ...        33      7976         5   \n",
       "1         9.0       1978   0.000070  ...        46     10309         1   \n",
       "2        17.0       1977   0.437885  ...        23      5735         3   \n",
       "3        12.0       1976   0.012339  ...        35      5776         1   \n",
       "4        17.0       2011   0.309479  ...        35      7715         4   \n",
       "\n",
       "   Healthcare_1  Helthcare_2  Shops_1  Shops_2          Price  DistrictSize  \\\n",
       "0         990.0            0       11        1  184966.930730            20   \n",
       "1         240.0            1       16        1  300009.450063            85   \n",
       "2        1084.0            0        5        1  175616.227217           146   \n",
       "3        2078.0            2        4        1  150226.531644            95   \n",
       "4         990.0            0        6        1  215898.447742            55   \n",
       "\n",
       "   IsDistrictLarge  \n",
       "0                0  \n",
       "1                0  \n",
       "2                1  \n",
       "3                0  \n",
       "4                0  \n",
       "\n",
       "[5 rows x 22 columns]"
      ]
     },
     "execution_count": 225,
     "metadata": {},
     "output_type": "execute_result"
    }
   ],
   "source": [
    "train_df['IsDistrictLarge'] = (train_df['DistrictSize'] > 100).astype(int)\n",
    "train_df.head()"
   ]
  },
  {
   "cell_type": "markdown",
   "id": "0a795ea1",
   "metadata": {},
   "source": [
    "#### MedPriceByDistrict"
   ]
  },
  {
   "cell_type": "code",
   "execution_count": 226,
   "id": "090a51a5",
   "metadata": {},
   "outputs": [
    {
     "data": {
      "text/html": [
       "<div>\n",
       "<style scoped>\n",
       "    .dataframe tbody tr th:only-of-type {\n",
       "        vertical-align: middle;\n",
       "    }\n",
       "\n",
       "    .dataframe tbody tr th {\n",
       "        vertical-align: top;\n",
       "    }\n",
       "\n",
       "    .dataframe thead th {\n",
       "        text-align: right;\n",
       "    }\n",
       "</style>\n",
       "<table border=\"1\" class=\"dataframe\">\n",
       "  <thead>\n",
       "    <tr style=\"text-align: right;\">\n",
       "      <th></th>\n",
       "      <th>DistrictId</th>\n",
       "      <th>Rooms</th>\n",
       "      <th>MedPriceByDistrict</th>\n",
       "    </tr>\n",
       "  </thead>\n",
       "  <tbody>\n",
       "    <tr>\n",
       "      <th>0</th>\n",
       "      <td>0</td>\n",
       "      <td>1.0</td>\n",
       "      <td>151223.494282</td>\n",
       "    </tr>\n",
       "    <tr>\n",
       "      <th>1</th>\n",
       "      <td>0</td>\n",
       "      <td>2.0</td>\n",
       "      <td>176210.812334</td>\n",
       "    </tr>\n",
       "    <tr>\n",
       "      <th>2</th>\n",
       "      <td>0</td>\n",
       "      <td>3.0</td>\n",
       "      <td>300610.359425</td>\n",
       "    </tr>\n",
       "    <tr>\n",
       "      <th>3</th>\n",
       "      <td>1</td>\n",
       "      <td>1.0</td>\n",
       "      <td>146154.352249</td>\n",
       "    </tr>\n",
       "    <tr>\n",
       "      <th>4</th>\n",
       "      <td>1</td>\n",
       "      <td>2.0</td>\n",
       "      <td>202907.941458</td>\n",
       "    </tr>\n",
       "  </tbody>\n",
       "</table>\n",
       "</div>"
      ],
      "text/plain": [
       "  DistrictId  Rooms  MedPriceByDistrict\n",
       "0          0    1.0       151223.494282\n",
       "1          0    2.0       176210.812334\n",
       "2          0    3.0       300610.359425\n",
       "3          1    1.0       146154.352249\n",
       "4          1    2.0       202907.941458"
      ]
     },
     "execution_count": 226,
     "metadata": {},
     "output_type": "execute_result"
    }
   ],
   "source": [
    "med_price_by_district = train_df.groupby(['DistrictId', 'Rooms'], as_index=False).agg({'Price':'median'})\\\n",
    "                            .rename(columns={'Price':'MedPriceByDistrict'})\n",
    "\n",
    "med_price_by_district.head()"
   ]
  },
  {
   "cell_type": "code",
   "execution_count": 227,
   "id": "641fc271",
   "metadata": {},
   "outputs": [
    {
     "data": {
      "text/plain": [
       "(641, 3)"
      ]
     },
     "execution_count": 227,
     "metadata": {},
     "output_type": "execute_result"
    }
   ],
   "source": [
    "med_price_by_district.shape"
   ]
  },
  {
   "cell_type": "code",
   "execution_count": 228,
   "id": "b61237a4",
   "metadata": {},
   "outputs": [
    {
     "data": {
      "text/html": [
       "<div>\n",
       "<style scoped>\n",
       "    .dataframe tbody tr th:only-of-type {\n",
       "        vertical-align: middle;\n",
       "    }\n",
       "\n",
       "    .dataframe tbody tr th {\n",
       "        vertical-align: top;\n",
       "    }\n",
       "\n",
       "    .dataframe thead th {\n",
       "        text-align: right;\n",
       "    }\n",
       "</style>\n",
       "<table border=\"1\" class=\"dataframe\">\n",
       "  <thead>\n",
       "    <tr style=\"text-align: right;\">\n",
       "      <th></th>\n",
       "      <th>Id</th>\n",
       "      <th>DistrictId</th>\n",
       "      <th>Rooms</th>\n",
       "      <th>Square</th>\n",
       "      <th>LifeSquare</th>\n",
       "      <th>KitchenSquare</th>\n",
       "      <th>Floor</th>\n",
       "      <th>HouseFloor</th>\n",
       "      <th>HouseYear</th>\n",
       "      <th>Ecology_1</th>\n",
       "      <th>...</th>\n",
       "      <th>Social_2</th>\n",
       "      <th>Social_3</th>\n",
       "      <th>Healthcare_1</th>\n",
       "      <th>Helthcare_2</th>\n",
       "      <th>Shops_1</th>\n",
       "      <th>Shops_2</th>\n",
       "      <th>Price</th>\n",
       "      <th>DistrictSize</th>\n",
       "      <th>IsDistrictLarge</th>\n",
       "      <th>MedPriceByDistrict</th>\n",
       "    </tr>\n",
       "  </thead>\n",
       "  <tbody>\n",
       "    <tr>\n",
       "      <th>0</th>\n",
       "      <td>14038</td>\n",
       "      <td>35</td>\n",
       "      <td>2.0</td>\n",
       "      <td>47.981561</td>\n",
       "      <td>29.442751</td>\n",
       "      <td>6.0</td>\n",
       "      <td>7</td>\n",
       "      <td>9.0</td>\n",
       "      <td>1969</td>\n",
       "      <td>0.089040</td>\n",
       "      <td>...</td>\n",
       "      <td>7976</td>\n",
       "      <td>5</td>\n",
       "      <td>990.0</td>\n",
       "      <td>0</td>\n",
       "      <td>11</td>\n",
       "      <td>1</td>\n",
       "      <td>184966.930730</td>\n",
       "      <td>20</td>\n",
       "      <td>0</td>\n",
       "      <td>203384.328026</td>\n",
       "    </tr>\n",
       "    <tr>\n",
       "      <th>1</th>\n",
       "      <td>15053</td>\n",
       "      <td>41</td>\n",
       "      <td>3.0</td>\n",
       "      <td>65.683640</td>\n",
       "      <td>40.049543</td>\n",
       "      <td>8.0</td>\n",
       "      <td>7</td>\n",
       "      <td>9.0</td>\n",
       "      <td>1978</td>\n",
       "      <td>0.000070</td>\n",
       "      <td>...</td>\n",
       "      <td>10309</td>\n",
       "      <td>1</td>\n",
       "      <td>240.0</td>\n",
       "      <td>1</td>\n",
       "      <td>16</td>\n",
       "      <td>1</td>\n",
       "      <td>300009.450063</td>\n",
       "      <td>85</td>\n",
       "      <td>0</td>\n",
       "      <td>297041.145784</td>\n",
       "    </tr>\n",
       "    <tr>\n",
       "      <th>2</th>\n",
       "      <td>5809</td>\n",
       "      <td>58</td>\n",
       "      <td>2.0</td>\n",
       "      <td>53.352981</td>\n",
       "      <td>52.731512</td>\n",
       "      <td>9.0</td>\n",
       "      <td>8</td>\n",
       "      <td>17.0</td>\n",
       "      <td>1977</td>\n",
       "      <td>0.437885</td>\n",
       "      <td>...</td>\n",
       "      <td>5735</td>\n",
       "      <td>3</td>\n",
       "      <td>1084.0</td>\n",
       "      <td>0</td>\n",
       "      <td>5</td>\n",
       "      <td>1</td>\n",
       "      <td>175616.227217</td>\n",
       "      <td>146</td>\n",
       "      <td>1</td>\n",
       "      <td>169246.115943</td>\n",
       "    </tr>\n",
       "    <tr>\n",
       "      <th>3</th>\n",
       "      <td>10783</td>\n",
       "      <td>99</td>\n",
       "      <td>1.0</td>\n",
       "      <td>39.649192</td>\n",
       "      <td>23.776169</td>\n",
       "      <td>7.0</td>\n",
       "      <td>11</td>\n",
       "      <td>12.0</td>\n",
       "      <td>1976</td>\n",
       "      <td>0.012339</td>\n",
       "      <td>...</td>\n",
       "      <td>5776</td>\n",
       "      <td>1</td>\n",
       "      <td>2078.0</td>\n",
       "      <td>2</td>\n",
       "      <td>4</td>\n",
       "      <td>1</td>\n",
       "      <td>150226.531644</td>\n",
       "      <td>95</td>\n",
       "      <td>0</td>\n",
       "      <td>158791.017955</td>\n",
       "    </tr>\n",
       "    <tr>\n",
       "      <th>4</th>\n",
       "      <td>12915</td>\n",
       "      <td>59</td>\n",
       "      <td>3.0</td>\n",
       "      <td>80.384479</td>\n",
       "      <td>46.683720</td>\n",
       "      <td>12.0</td>\n",
       "      <td>5</td>\n",
       "      <td>17.0</td>\n",
       "      <td>2011</td>\n",
       "      <td>0.309479</td>\n",
       "      <td>...</td>\n",
       "      <td>7715</td>\n",
       "      <td>4</td>\n",
       "      <td>990.0</td>\n",
       "      <td>0</td>\n",
       "      <td>6</td>\n",
       "      <td>1</td>\n",
       "      <td>215898.447742</td>\n",
       "      <td>55</td>\n",
       "      <td>0</td>\n",
       "      <td>409728.680534</td>\n",
       "    </tr>\n",
       "  </tbody>\n",
       "</table>\n",
       "<p>5 rows × 23 columns</p>\n",
       "</div>"
      ],
      "text/plain": [
       "      Id DistrictId  Rooms     Square  LifeSquare  KitchenSquare  Floor  \\\n",
       "0  14038         35    2.0  47.981561   29.442751            6.0      7   \n",
       "1  15053         41    3.0  65.683640   40.049543            8.0      7   \n",
       "2   5809         58    2.0  53.352981   52.731512            9.0      8   \n",
       "3  10783         99    1.0  39.649192   23.776169            7.0     11   \n",
       "4  12915         59    3.0  80.384479   46.683720           12.0      5   \n",
       "\n",
       "   HouseFloor  HouseYear  Ecology_1  ...  Social_2  Social_3  Healthcare_1  \\\n",
       "0         9.0       1969   0.089040  ...      7976         5         990.0   \n",
       "1         9.0       1978   0.000070  ...     10309         1         240.0   \n",
       "2        17.0       1977   0.437885  ...      5735         3        1084.0   \n",
       "3        12.0       1976   0.012339  ...      5776         1        2078.0   \n",
       "4        17.0       2011   0.309479  ...      7715         4         990.0   \n",
       "\n",
       "   Helthcare_2  Shops_1  Shops_2          Price  DistrictSize  \\\n",
       "0            0       11        1  184966.930730            20   \n",
       "1            1       16        1  300009.450063            85   \n",
       "2            0        5        1  175616.227217           146   \n",
       "3            2        4        1  150226.531644            95   \n",
       "4            0        6        1  215898.447742            55   \n",
       "\n",
       "   IsDistrictLarge  MedPriceByDistrict  \n",
       "0                0       203384.328026  \n",
       "1                0       297041.145784  \n",
       "2                1       169246.115943  \n",
       "3                0       158791.017955  \n",
       "4                0       409728.680534  \n",
       "\n",
       "[5 rows x 23 columns]"
      ]
     },
     "execution_count": 228,
     "metadata": {},
     "output_type": "execute_result"
    }
   ],
   "source": [
    "train_df = train_df.merge(med_price_by_district, on=['DistrictId', 'Rooms'], how='left')\n",
    "train_df.head()"
   ]
  },
  {
   "cell_type": "code",
   "execution_count": 229,
   "id": "ede41ce0",
   "metadata": {},
   "outputs": [
    {
     "data": {
      "text/plain": [
       "0       1\n",
       "1       1\n",
       "2       1\n",
       "3       1\n",
       "4       1\n",
       "       ..\n",
       "8857    1\n",
       "8858    1\n",
       "8859    1\n",
       "8860    1\n",
       "8861    1\n",
       "Name: Ecology_2, Length: 8862, dtype: int64"
      ]
     },
     "execution_count": 229,
     "metadata": {},
     "output_type": "execute_result"
    }
   ],
   "source": [
    "train_df.Ecology_2"
   ]
  },
  {
   "cell_type": "code",
   "execution_count": 230,
   "id": "3562da97",
   "metadata": {},
   "outputs": [
    {
     "data": {
      "text/plain": [
       "0       1\n",
       "1       1\n",
       "2       1\n",
       "3       1\n",
       "4       1\n",
       "       ..\n",
       "8857    1\n",
       "8858    1\n",
       "8859    1\n",
       "8860    0\n",
       "8861    1\n",
       "Name: Ecology_3, Length: 8862, dtype: int64"
      ]
     },
     "execution_count": 230,
     "metadata": {},
     "output_type": "execute_result"
    }
   ],
   "source": [
    "train_df.Ecology_3"
   ]
  },
  {
   "cell_type": "code",
   "execution_count": 231,
   "id": "65ec6fb9",
   "metadata": {},
   "outputs": [
    {
     "data": {
      "text/plain": [
       "Floor\n",
       "1     1.833992\n",
       "2     1.903175\n",
       "3     1.890427\n",
       "4     1.940629\n",
       "5     1.893112\n",
       "6     1.870805\n",
       "7     1.944805\n",
       "8     1.897133\n",
       "9     1.893458\n",
       "10    1.814404\n",
       "11    1.826590\n",
       "12    1.766667\n",
       "13    1.869258\n",
       "14    1.891697\n",
       "15    1.875576\n",
       "16    1.829694\n",
       "17    1.902703\n",
       "18    1.943396\n",
       "19    1.877551\n",
       "20    1.837209\n",
       "21    1.736842\n",
       "22    2.194444\n",
       "23    2.000000\n",
       "24    1.840000\n",
       "25    2.272727\n",
       "28    1.500000\n",
       "31    1.000000\n",
       "32    1.000000\n",
       "33    1.000000\n",
       "42    2.000000\n",
       "Name: Rooms, dtype: float64"
      ]
     },
     "execution_count": 231,
     "metadata": {},
     "output_type": "execute_result"
    }
   ],
   "source": [
    "train_df[\"Eco2_Eco3\"] = train_df.Ecology_2 + train_df.Ecology_3\n",
    "train_df.groupby([\"Floor\"])[\"Rooms\"].mean()"
   ]
  },
  {
   "cell_type": "code",
   "execution_count": 232,
   "id": "d3dd8c85",
   "metadata": {},
   "outputs": [
    {
     "data": {
      "text/plain": [
       "2    8506\n",
       "1     356\n",
       "dtype: int64"
      ]
     },
     "execution_count": 232,
     "metadata": {},
     "output_type": "execute_result"
    }
   ],
   "source": [
    "gp = train_df.Ecology_2 + train_df.Ecology_3\n",
    "gp.value_counts()"
   ]
  },
  {
   "cell_type": "markdown",
   "id": "dde4f28f",
   "metadata": {},
   "source": [
    "### Отбор признаков "
   ]
  },
  {
   "cell_type": "code",
   "execution_count": 233,
   "id": "bcd9bf3b",
   "metadata": {},
   "outputs": [
    {
     "data": {
      "text/plain": [
       "['Id',\n",
       " 'DistrictId',\n",
       " 'Rooms',\n",
       " 'Square',\n",
       " 'LifeSquare',\n",
       " 'KitchenSquare',\n",
       " 'Floor',\n",
       " 'HouseFloor',\n",
       " 'HouseYear',\n",
       " 'Ecology_1',\n",
       " 'Ecology_2',\n",
       " 'Ecology_3',\n",
       " 'Social_1',\n",
       " 'Social_2',\n",
       " 'Social_3',\n",
       " 'Healthcare_1',\n",
       " 'Helthcare_2',\n",
       " 'Shops_1',\n",
       " 'Shops_2',\n",
       " 'Price',\n",
       " 'DistrictSize',\n",
       " 'IsDistrictLarge',\n",
       " 'MedPriceByDistrict',\n",
       " 'Eco2_Eco3']"
      ]
     },
     "execution_count": 233,
     "metadata": {},
     "output_type": "execute_result"
    }
   ],
   "source": [
    "train_df.columns.tolist()"
   ]
  },
  {
   "cell_type": "code",
   "execution_count": 234,
   "id": "47c0e2c4",
   "metadata": {},
   "outputs": [],
   "source": [
    "feature_names = ['Rooms','Square','LifeSquare','KitchenSquare','Floor','HouseFloor','HouseYear','Ecology_1','Ecology_2',\n",
    "                 'Ecology_3','Social_1','Social_2','Social_3','Healthcare_1','Helthcare_2''Shops_1','Shops_2',]"
   ]
  },
  {
   "cell_type": "code",
   "execution_count": 235,
   "id": "33bad3aa",
   "metadata": {},
   "outputs": [],
   "source": [
    "\n",
    "new_feature_names = ['IsDistrictLarge', 'MedPriceByDistrict']\n",
    "\n",
    "target_name = 'Price'"
   ]
  },
  {
   "cell_type": "code",
   "execution_count": 236,
   "id": "11e2d64c",
   "metadata": {},
   "outputs": [
    {
     "data": {
      "text/plain": [
       "(8862, 24)"
      ]
     },
     "execution_count": 236,
     "metadata": {},
     "output_type": "execute_result"
    }
   ],
   "source": [
    "train_df.shape"
   ]
  },
  {
   "cell_type": "code",
   "execution_count": 237,
   "id": "a6dc200a",
   "metadata": {},
   "outputs": [
    {
     "data": {
      "text/plain": [
       "(5000, 19)"
      ]
     },
     "execution_count": 237,
     "metadata": {},
     "output_type": "execute_result"
    }
   ],
   "source": [
    "test_df.shape"
   ]
  },
  {
   "cell_type": "code",
   "execution_count": 238,
   "id": "e999c523",
   "metadata": {},
   "outputs": [
    {
     "data": {
      "text/plain": [
       "(5000, 19)"
      ]
     },
     "execution_count": 238,
     "metadata": {},
     "output_type": "execute_result"
    }
   ],
   "source": [
    "test_df.shape"
   ]
  },
  {
   "cell_type": "markdown",
   "id": "b9b0b300",
   "metadata": {},
   "source": [
    "### Разбиение на train и test"
   ]
  },
  {
   "cell_type": "code",
   "execution_count": 239,
   "id": "73829344",
   "metadata": {},
   "outputs": [],
   "source": [
    "train_df = pd.read_csv(TRAIN_DATASET_PATH)\n",
    "test_df = pd.read_csv(TEST_DATASET_PATH)\n",
    "\n",
    "X = train_df.drop(columns=target_name)\n",
    "y = train_df[target_name]"
   ]
  },
  {
   "cell_type": "code",
   "execution_count": 240,
   "id": "701852dc",
   "metadata": {},
   "outputs": [],
   "source": [
    "X_train, X_valid, y_train, y_valid = train_test_split(X, y, test_size=0.33, shuffle=True, random_state=21)"
   ]
  },
  {
   "cell_type": "code",
   "execution_count": 241,
   "id": "c3e2c2db",
   "metadata": {},
   "outputs": [],
   "source": [
    "class DataPreprocessing:\n",
    "    \"\"\"Подготовка исходных данных\"\"\"\n",
    "\n",
    "    def __init__(self):\n",
    "        \"\"\"Параметры класса\"\"\"\n",
    "        self.medians = None\n",
    "        self.kitchen_square_quantile = None\n",
    "        \n",
    "    def fit(self, X):\n",
    "        \"\"\"Сохранение статистик\"\"\"       \n",
    "        # Расчет медиан\n",
    "        self.medians = X.median()\n",
    "        self.kitchen_square_quantile = X['KitchenSquare'].quantile(.975)\n",
    "    \n",
    "    def transform(self, X):\n",
    "        \"\"\"Трансформация данных\"\"\"\n",
    "\n",
    "        # Rooms\n",
    "        X['Rooms_outlier'] = 0\n",
    "        X.loc[(X['Rooms'] == 0) | (X['Rooms'] >= 6), 'Rooms_outlier'] = 1\n",
    "        \n",
    "        X.loc[X['Rooms'] == 0, 'Rooms'] = 1\n",
    "        X.loc[X['Rooms'] >= 6, 'Rooms'] = self.medians['Rooms']\n",
    "        \n",
    "        # KitchenSquare\n",
    "        condition = (X['KitchenSquare'].isna()) \\\n",
    "                    | (X['KitchenSquare'] > self.kitchen_square_quantile)\n",
    "        \n",
    "        X.loc[condition, 'KitchenSquare'] = self.medians['KitchenSquare']\n",
    "\n",
    "        X.loc[X['KitchenSquare'] < 3, 'KitchenSquare'] = 3\n",
    "        \n",
    "        # HouseFloor, Floor\n",
    "        X['HouseFloor_outlier'] = 0\n",
    "        X.loc[X['HouseFloor'] == 0, 'HouseFloor_outlier'] = 1\n",
    "        X.loc[X['Floor'] > X['HouseFloor'], 'HouseFloor_outlier'] = 1\n",
    "        \n",
    "        X.loc[X['HouseFloor'] == 0, 'HouseFloor'] = self.medians['HouseFloor']\n",
    "        \n",
    "        floor_outliers = X.loc[X['Floor'] > X['HouseFloor']].index\n",
    "        X.loc[floor_outliers, 'Floor'] = X.loc[floor_outliers, 'HouseFloor']\\\n",
    "                                            .apply(lambda x: random.randint(1, x))\n",
    "        \n",
    "        \n",
    "        # Healthcare_1\n",
    "        if 'Healthcare_1' in X.columns:\n",
    "            X.drop('Healthcare_1', axis=1, inplace=True)\n",
    "            \n",
    "        # LifeSquare\n",
    "        X['LifeSquare_nan'] = X['LifeSquare'].isna() * 1\n",
    "        condition = (X['LifeSquare'].isna()) & \\\n",
    "                      (~X['Square'].isna()) & \\\n",
    "                      (~X['KitchenSquare'].isna())\n",
    "        \n",
    "        X.loc[condition, 'LifeSquare'] = X.loc[condition, 'Square'] - X.loc[condition, 'KitchenSquare'] - 3\n",
    "        \n",
    "        \n",
    "        X.fillna(self.medians, inplace=True)\n",
    "        \n",
    "        return X"
   ]
  },
  {
   "cell_type": "code",
   "execution_count": 242,
   "id": "9157fce6",
   "metadata": {},
   "outputs": [
    {
     "data": {
      "text/plain": [
       "((6700, 21), (3300, 21), (5000, 21))"
      ]
     },
     "execution_count": 242,
     "metadata": {},
     "output_type": "execute_result"
    }
   ],
   "source": [
    "preprocessor = DataPreprocessing()\n",
    "preprocessor.fit(X_train)\n",
    "\n",
    "X_train = preprocessor.transform(X_train)\n",
    "X_valid = preprocessor.transform(X_valid)\n",
    "test_df = preprocessor.transform(test_df)\n",
    "\n",
    "X_train.shape, X_valid.shape, test_df.shape"
   ]
  },
  {
   "cell_type": "code",
   "execution_count": 243,
   "id": "eb585829",
   "metadata": {},
   "outputs": [],
   "source": [
    "class FeatureGenetator():\n",
    "    \"\"\"Генерация новых фич\"\"\"\n",
    "    \n",
    "    def __init__(self):\n",
    "        self.DistrictId_counts = None\n",
    "        self.binary_to_numbers = None\n",
    "        self.med_price_by_district = None\n",
    "        self.med_price_by_floor_year = None\n",
    "        self.house_year_max = None\n",
    "        self.floor_max = None\n",
    "        self.district_size = None\n",
    "        \n",
    "    def fit(self, X, y=None):\n",
    "        \n",
    "        X = X.copy()\n",
    "        \n",
    "        # Binary features\n",
    "        self.binary_to_numbers = {'A': 0, 'B': 1}\n",
    "        \n",
    "        # DistrictID\n",
    "        self.district_size = X['DistrictId'].value_counts().reset_index() \\\n",
    "                               .rename(columns={'index':'DistrictId', 'DistrictId':'DistrictSize'})\n",
    "                \n",
    "        # Target encoding\n",
    "        ## District, Rooms\n",
    "        df = X.copy()\n",
    "        \n",
    "        if y is not None:\n",
    "            df['Price'] = y.values\n",
    "            \n",
    "            self.med_price_by_district = df.groupby(['DistrictId', 'Rooms'], as_index=False).agg({'Price':'median'})\\\n",
    "                                            .rename(columns={'Price':'MedPriceByDistrict'})\n",
    "            \n",
    "            self.med_price_by_district_median = self.med_price_by_district['MedPriceByDistrict'].median()\n",
    "            \n",
    "        \n",
    "\n",
    "        \n",
    "    def transform(self, X):\n",
    "        \n",
    "        # Binary features\n",
    "        X['Ecology_2'] = X['Ecology_2'].map(self.binary_to_numbers)  # self.binary_to_numbers = {'A': 0, 'B': 1}\n",
    "        X['Ecology_3'] = X['Ecology_3'].map(self.binary_to_numbers)\n",
    "        X['Shops_2'] = X['Shops_2'].map(self.binary_to_numbers)\n",
    "        \n",
    "        # DistrictId, IsDistrictLarge\n",
    "        X = X.merge(self.district_size, on='DistrictId', how='left')\n",
    "        \n",
    "        X['new_district'] = 0\n",
    "        X.loc[X['DistrictSize'].isna(), 'new_district'] = 1\n",
    "        \n",
    "        X['DistrictSize'].fillna(5, inplace=True)\n",
    "        \n",
    "        X['IsDistrictLarge'] = (X['DistrictSize'] > 100).astype(int)\n",
    "        \n",
    "        \n",
    "        # Target encoding\n",
    "        if self.med_price_by_district is not None:\n",
    "            X = X.merge(self.med_price_by_district, on=['DistrictId', 'Rooms'], how='left')\n",
    "            X['MedPriceByDistrict'].fillna(self.med_price_by_district_median, inplace=True)\n",
    "            \n",
    "        \n",
    "        \n",
    "        return X\n",
    "    \n",
    "   "
   ]
  },
  {
   "cell_type": "code",
   "execution_count": 244,
   "id": "fa00b66d",
   "metadata": {},
   "outputs": [
    {
     "data": {
      "text/plain": [
       "((6700, 25), (3300, 25), (5000, 25))"
      ]
     },
     "execution_count": 244,
     "metadata": {},
     "output_type": "execute_result"
    }
   ],
   "source": [
    "features_gen = FeatureGenetator()\n",
    "features_gen.fit(X_train, y_train)\n",
    "\n",
    "X_train = features_gen.transform(X_train)\n",
    "X_valid = features_gen.transform(X_valid)\n",
    "test_df = features_gen.transform(test_df)\n",
    "\n",
    "X_train.shape, X_valid.shape, test_df.shape"
   ]
  },
  {
   "cell_type": "markdown",
   "id": "50a1e113",
   "metadata": {},
   "source": [
    "### Построение модели\n",
    "#### Обучение"
   ]
  },
  {
   "cell_type": "code",
   "execution_count": 245,
   "id": "552098f4",
   "metadata": {},
   "outputs": [
    {
     "data": {
      "text/plain": [
       "RandomForestRegressor(random_state=21)"
      ]
     },
     "execution_count": 245,
     "metadata": {},
     "output_type": "execute_result"
    }
   ],
   "source": [
    "rf_model = RandomForestRegressor(random_state=21, criterion='mse')\n",
    "rf_model.fit(X_train, y_train)"
   ]
  },
  {
   "cell_type": "markdown",
   "id": "b6c991e6",
   "metadata": {},
   "source": [
    "#### построение модели"
   ]
  },
  {
   "cell_type": "code",
   "execution_count": 257,
   "id": "b3be18d2",
   "metadata": {},
   "outputs": [
    {
     "name": "stdout",
     "output_type": "stream",
     "text": [
      "Train R2:\t0.965\n",
      "Test R2:\t0.696\n"
     ]
    },
    {
     "data": {
      "image/png": "[encoded data removed]",
      "text/plain": [
       "<Figure size 1296x720 with 2 Axes>"
      ]
     },
     "metadata": {
      "needs_background": "light"
     },
     "output_type": "display_data"
    }
   ],
   "source": [
    "y_train_preds = rf_model.predict(X_train)\n",
    "y_test_preds = rf_model.predict(X_valid)\n",
    "\n",
    "evaluate_preds(y_train, y_train_preds, y_valid, y_test_preds)"
   ]
  },
  {
   "cell_type": "markdown",
   "id": "030af477",
   "metadata": {},
   "source": [
    "#### Перекрестная проверка"
   ]
  },
  {
   "cell_type": "code",
   "execution_count": 258,
   "id": "1ed2d3eb",
   "metadata": {},
   "outputs": [
    {
     "data": {
      "text/plain": [
       "array([0.72083715, 0.74068273, 0.76686181])"
      ]
     },
     "execution_count": 258,
     "metadata": {},
     "output_type": "execute_result"
    }
   ],
   "source": [
    "cv_score = cross_val_score(rf_model, X_train, y_train, scoring='r2', cv=KFold(n_splits=3, shuffle=True, random_state=21))\n",
    "cv_score"
   ]
  },
  {
   "cell_type": "code",
   "execution_count": 259,
   "id": "0517913f",
   "metadata": {},
   "outputs": [
    {
     "data": {
      "text/plain": [
       "0.7427938973418872"
      ]
     },
     "execution_count": 259,
     "metadata": {},
     "output_type": "execute_result"
    }
   ],
   "source": [
    "cv_score.mean()"
   ]
  },
  {
   "cell_type": "markdown",
   "id": "52ed1804",
   "metadata": {},
   "source": [
    "### Важность признаков"
   ]
  },
  {
   "cell_type": "code",
   "execution_count": 249,
   "id": "4679c512",
   "metadata": {},
   "outputs": [
    {
     "data": {
      "text/html": [
       "<div>\n",
       "<style scoped>\n",
       "    .dataframe tbody tr th:only-of-type {\n",
       "        vertical-align: middle;\n",
       "    }\n",
       "\n",
       "    .dataframe tbody tr th {\n",
       "        vertical-align: top;\n",
       "    }\n",
       "\n",
       "    .dataframe thead th {\n",
       "        text-align: right;\n",
       "    }\n",
       "</style>\n",
       "<table border=\"1\" class=\"dataframe\">\n",
       "  <thead>\n",
       "    <tr style=\"text-align: right;\">\n",
       "      <th></th>\n",
       "      <th>feature_name</th>\n",
       "      <th>importance</th>\n",
       "    </tr>\n",
       "  </thead>\n",
       "  <tbody>\n",
       "    <tr>\n",
       "      <th>24</th>\n",
       "      <td>MedPriceByDistrict</td>\n",
       "      <td>0.626787</td>\n",
       "    </tr>\n",
       "    <tr>\n",
       "      <th>3</th>\n",
       "      <td>Square</td>\n",
       "      <td>0.118470</td>\n",
       "    </tr>\n",
       "    <tr>\n",
       "      <th>4</th>\n",
       "      <td>LifeSquare</td>\n",
       "      <td>0.027716</td>\n",
       "    </tr>\n",
       "    <tr>\n",
       "      <th>21</th>\n",
       "      <td>DistrictSize</td>\n",
       "      <td>0.024636</td>\n",
       "    </tr>\n",
       "    <tr>\n",
       "      <th>7</th>\n",
       "      <td>HouseFloor</td>\n",
       "      <td>0.024538</td>\n",
       "    </tr>\n",
       "    <tr>\n",
       "      <th>8</th>\n",
       "      <td>HouseYear</td>\n",
       "      <td>0.024152</td>\n",
       "    </tr>\n",
       "    <tr>\n",
       "      <th>0</th>\n",
       "      <td>Id</td>\n",
       "      <td>0.021393</td>\n",
       "    </tr>\n",
       "    <tr>\n",
       "      <th>14</th>\n",
       "      <td>Social_3</td>\n",
       "      <td>0.020089</td>\n",
       "    </tr>\n",
       "    <tr>\n",
       "      <th>5</th>\n",
       "      <td>KitchenSquare</td>\n",
       "      <td>0.017938</td>\n",
       "    </tr>\n",
       "    <tr>\n",
       "      <th>6</th>\n",
       "      <td>Floor</td>\n",
       "      <td>0.017751</td>\n",
       "    </tr>\n",
       "    <tr>\n",
       "      <th>9</th>\n",
       "      <td>Ecology_1</td>\n",
       "      <td>0.014141</td>\n",
       "    </tr>\n",
       "    <tr>\n",
       "      <th>13</th>\n",
       "      <td>Social_2</td>\n",
       "      <td>0.013695</td>\n",
       "    </tr>\n",
       "    <tr>\n",
       "      <th>1</th>\n",
       "      <td>DistrictId</td>\n",
       "      <td>0.013492</td>\n",
       "    </tr>\n",
       "    <tr>\n",
       "      <th>12</th>\n",
       "      <td>Social_1</td>\n",
       "      <td>0.011839</td>\n",
       "    </tr>\n",
       "    <tr>\n",
       "      <th>16</th>\n",
       "      <td>Shops_1</td>\n",
       "      <td>0.007643</td>\n",
       "    </tr>\n",
       "    <tr>\n",
       "      <th>2</th>\n",
       "      <td>Rooms</td>\n",
       "      <td>0.005761</td>\n",
       "    </tr>\n",
       "    <tr>\n",
       "      <th>15</th>\n",
       "      <td>Helthcare_2</td>\n",
       "      <td>0.005112</td>\n",
       "    </tr>\n",
       "    <tr>\n",
       "      <th>19</th>\n",
       "      <td>HouseFloor_outlier</td>\n",
       "      <td>0.001519</td>\n",
       "    </tr>\n",
       "    <tr>\n",
       "      <th>20</th>\n",
       "      <td>LifeSquare_nan</td>\n",
       "      <td>0.000938</td>\n",
       "    </tr>\n",
       "    <tr>\n",
       "      <th>23</th>\n",
       "      <td>IsDistrictLarge</td>\n",
       "      <td>0.000830</td>\n",
       "    </tr>\n",
       "    <tr>\n",
       "      <th>11</th>\n",
       "      <td>Ecology_3</td>\n",
       "      <td>0.000708</td>\n",
       "    </tr>\n",
       "    <tr>\n",
       "      <th>17</th>\n",
       "      <td>Shops_2</td>\n",
       "      <td>0.000655</td>\n",
       "    </tr>\n",
       "    <tr>\n",
       "      <th>10</th>\n",
       "      <td>Ecology_2</td>\n",
       "      <td>0.000142</td>\n",
       "    </tr>\n",
       "    <tr>\n",
       "      <th>18</th>\n",
       "      <td>Rooms_outlier</td>\n",
       "      <td>0.000055</td>\n",
       "    </tr>\n",
       "    <tr>\n",
       "      <th>22</th>\n",
       "      <td>new_district</td>\n",
       "      <td>0.000000</td>\n",
       "    </tr>\n",
       "  </tbody>\n",
       "</table>\n",
       "</div>"
      ],
      "text/plain": [
       "          feature_name  importance\n",
       "24  MedPriceByDistrict    0.626787\n",
       "3               Square    0.118470\n",
       "4           LifeSquare    0.027716\n",
       "21        DistrictSize    0.024636\n",
       "7           HouseFloor    0.024538\n",
       "8            HouseYear    0.024152\n",
       "0                   Id    0.021393\n",
       "14            Social_3    0.020089\n",
       "5        KitchenSquare    0.017938\n",
       "6                Floor    0.017751\n",
       "9            Ecology_1    0.014141\n",
       "13            Social_2    0.013695\n",
       "1           DistrictId    0.013492\n",
       "12            Social_1    0.011839\n",
       "16             Shops_1    0.007643\n",
       "2                Rooms    0.005761\n",
       "15         Helthcare_2    0.005112\n",
       "19  HouseFloor_outlier    0.001519\n",
       "20      LifeSquare_nan    0.000938\n",
       "23     IsDistrictLarge    0.000830\n",
       "11           Ecology_3    0.000708\n",
       "17             Shops_2    0.000655\n",
       "10           Ecology_2    0.000142\n",
       "18       Rooms_outlier    0.000055\n",
       "22        new_district    0.000000"
      ]
     },
     "execution_count": 249,
     "metadata": {},
     "output_type": "execute_result"
    }
   ],
   "source": [
    "feature_importances = pd.DataFrame(zip(X_train.columns, rf_model.feature_importances_), \n",
    "                                   columns=['feature_name', 'importance'])\n",
    "\n",
    "feature_importances.sort_values(by='importance', ascending=False)"
   ]
  },
  {
   "cell_type": "markdown",
   "id": "c31cd771",
   "metadata": {},
   "source": [
    "#### Формирование файла с прогнозами"
   ]
  },
  {
   "cell_type": "code",
   "execution_count": 250,
   "id": "aaa78024",
   "metadata": {},
   "outputs": [
    {
     "data": {
      "text/plain": [
       "(5000, 25)"
      ]
     },
     "execution_count": 250,
     "metadata": {},
     "output_type": "execute_result"
    }
   ],
   "source": [
    "test_df.shape"
   ]
  },
  {
   "cell_type": "code",
   "execution_count": 251,
   "id": "79464d46",
   "metadata": {},
   "outputs": [
    {
     "data": {
      "text/html": [
       "<div>\n",
       "<style scoped>\n",
       "    .dataframe tbody tr th:only-of-type {\n",
       "        vertical-align: middle;\n",
       "    }\n",
       "\n",
       "    .dataframe tbody tr th {\n",
       "        vertical-align: top;\n",
       "    }\n",
       "\n",
       "    .dataframe thead th {\n",
       "        text-align: right;\n",
       "    }\n",
       "</style>\n",
       "<table border=\"1\" class=\"dataframe\">\n",
       "  <thead>\n",
       "    <tr style=\"text-align: right;\">\n",
       "      <th></th>\n",
       "      <th>Id</th>\n",
       "      <th>DistrictId</th>\n",
       "      <th>Rooms</th>\n",
       "      <th>Square</th>\n",
       "      <th>LifeSquare</th>\n",
       "      <th>KitchenSquare</th>\n",
       "      <th>Floor</th>\n",
       "      <th>HouseFloor</th>\n",
       "      <th>HouseYear</th>\n",
       "      <th>Ecology_1</th>\n",
       "      <th>...</th>\n",
       "      <th>Helthcare_2</th>\n",
       "      <th>Shops_1</th>\n",
       "      <th>Shops_2</th>\n",
       "      <th>Rooms_outlier</th>\n",
       "      <th>HouseFloor_outlier</th>\n",
       "      <th>LifeSquare_nan</th>\n",
       "      <th>DistrictSize</th>\n",
       "      <th>new_district</th>\n",
       "      <th>IsDistrictLarge</th>\n",
       "      <th>MedPriceByDistrict</th>\n",
       "    </tr>\n",
       "  </thead>\n",
       "  <tbody>\n",
       "    <tr>\n",
       "      <th>0</th>\n",
       "      <td>725</td>\n",
       "      <td>58</td>\n",
       "      <td>2.0</td>\n",
       "      <td>49.882643</td>\n",
       "      <td>33.432782</td>\n",
       "      <td>6.0</td>\n",
       "      <td>6</td>\n",
       "      <td>14.0</td>\n",
       "      <td>1972</td>\n",
       "      <td>0.310199</td>\n",
       "      <td>...</td>\n",
       "      <td>0</td>\n",
       "      <td>0</td>\n",
       "      <td>1</td>\n",
       "      <td>0</td>\n",
       "      <td>0</td>\n",
       "      <td>0</td>\n",
       "      <td>106.0</td>\n",
       "      <td>0</td>\n",
       "      <td>1</td>\n",
       "      <td>162550.157311</td>\n",
       "    </tr>\n",
       "    <tr>\n",
       "      <th>1</th>\n",
       "      <td>15856</td>\n",
       "      <td>74</td>\n",
       "      <td>2.0</td>\n",
       "      <td>69.263183</td>\n",
       "      <td>63.263183</td>\n",
       "      <td>3.0</td>\n",
       "      <td>1</td>\n",
       "      <td>1.0</td>\n",
       "      <td>1977</td>\n",
       "      <td>0.075779</td>\n",
       "      <td>...</td>\n",
       "      <td>0</td>\n",
       "      <td>2</td>\n",
       "      <td>1</td>\n",
       "      <td>0</td>\n",
       "      <td>1</td>\n",
       "      <td>1</td>\n",
       "      <td>79.0</td>\n",
       "      <td>0</td>\n",
       "      <td>0</td>\n",
       "      <td>240307.895031</td>\n",
       "    </tr>\n",
       "    <tr>\n",
       "      <th>2</th>\n",
       "      <td>5480</td>\n",
       "      <td>190</td>\n",
       "      <td>1.0</td>\n",
       "      <td>13.597819</td>\n",
       "      <td>15.948246</td>\n",
       "      <td>12.0</td>\n",
       "      <td>2</td>\n",
       "      <td>5.0</td>\n",
       "      <td>1909</td>\n",
       "      <td>0.000000</td>\n",
       "      <td>...</td>\n",
       "      <td>5</td>\n",
       "      <td>5</td>\n",
       "      <td>1</td>\n",
       "      <td>0</td>\n",
       "      <td>0</td>\n",
       "      <td>0</td>\n",
       "      <td>3.0</td>\n",
       "      <td>0</td>\n",
       "      <td>0</td>\n",
       "      <td>243250.623310</td>\n",
       "    </tr>\n",
       "    <tr>\n",
       "      <th>3</th>\n",
       "      <td>15664</td>\n",
       "      <td>47</td>\n",
       "      <td>2.0</td>\n",
       "      <td>73.046609</td>\n",
       "      <td>51.940842</td>\n",
       "      <td>9.0</td>\n",
       "      <td>22</td>\n",
       "      <td>22.0</td>\n",
       "      <td>2007</td>\n",
       "      <td>0.101872</td>\n",
       "      <td>...</td>\n",
       "      <td>3</td>\n",
       "      <td>3</td>\n",
       "      <td>1</td>\n",
       "      <td>0</td>\n",
       "      <td>0</td>\n",
       "      <td>0</td>\n",
       "      <td>66.0</td>\n",
       "      <td>0</td>\n",
       "      <td>0</td>\n",
       "      <td>228796.542555</td>\n",
       "    </tr>\n",
       "    <tr>\n",
       "      <th>4</th>\n",
       "      <td>14275</td>\n",
       "      <td>27</td>\n",
       "      <td>1.0</td>\n",
       "      <td>47.527111</td>\n",
       "      <td>43.387569</td>\n",
       "      <td>3.0</td>\n",
       "      <td>17</td>\n",
       "      <td>17.0</td>\n",
       "      <td>2017</td>\n",
       "      <td>0.072158</td>\n",
       "      <td>...</td>\n",
       "      <td>0</td>\n",
       "      <td>0</td>\n",
       "      <td>0</td>\n",
       "      <td>0</td>\n",
       "      <td>0</td>\n",
       "      <td>0</td>\n",
       "      <td>578.0</td>\n",
       "      <td>0</td>\n",
       "      <td>1</td>\n",
       "      <td>117801.204933</td>\n",
       "    </tr>\n",
       "    <tr>\n",
       "      <th>...</th>\n",
       "      <td>...</td>\n",
       "      <td>...</td>\n",
       "      <td>...</td>\n",
       "      <td>...</td>\n",
       "      <td>...</td>\n",
       "      <td>...</td>\n",
       "      <td>...</td>\n",
       "      <td>...</td>\n",
       "      <td>...</td>\n",
       "      <td>...</td>\n",
       "      <td>...</td>\n",
       "      <td>...</td>\n",
       "      <td>...</td>\n",
       "      <td>...</td>\n",
       "      <td>...</td>\n",
       "      <td>...</td>\n",
       "      <td>...</td>\n",
       "      <td>...</td>\n",
       "      <td>...</td>\n",
       "      <td>...</td>\n",
       "      <td>...</td>\n",
       "    </tr>\n",
       "    <tr>\n",
       "      <th>4995</th>\n",
       "      <td>8180</td>\n",
       "      <td>11</td>\n",
       "      <td>3.0</td>\n",
       "      <td>67.133911</td>\n",
       "      <td>50.809797</td>\n",
       "      <td>6.0</td>\n",
       "      <td>5</td>\n",
       "      <td>9.0</td>\n",
       "      <td>1973</td>\n",
       "      <td>0.000170</td>\n",
       "      <td>...</td>\n",
       "      <td>1</td>\n",
       "      <td>1</td>\n",
       "      <td>1</td>\n",
       "      <td>0</td>\n",
       "      <td>0</td>\n",
       "      <td>0</td>\n",
       "      <td>88.0</td>\n",
       "      <td>0</td>\n",
       "      <td>0</td>\n",
       "      <td>246508.486248</td>\n",
       "    </tr>\n",
       "    <tr>\n",
       "      <th>4996</th>\n",
       "      <td>4695</td>\n",
       "      <td>1</td>\n",
       "      <td>1.0</td>\n",
       "      <td>40.198472</td>\n",
       "      <td>21.807061</td>\n",
       "      <td>10.0</td>\n",
       "      <td>12</td>\n",
       "      <td>17.0</td>\n",
       "      <td>2017</td>\n",
       "      <td>0.007122</td>\n",
       "      <td>...</td>\n",
       "      <td>0</td>\n",
       "      <td>1</td>\n",
       "      <td>1</td>\n",
       "      <td>0</td>\n",
       "      <td>0</td>\n",
       "      <td>0</td>\n",
       "      <td>445.0</td>\n",
       "      <td>0</td>\n",
       "      <td>1</td>\n",
       "      <td>147390.425643</td>\n",
       "    </tr>\n",
       "    <tr>\n",
       "      <th>4997</th>\n",
       "      <td>5783</td>\n",
       "      <td>12</td>\n",
       "      <td>3.0</td>\n",
       "      <td>77.842178</td>\n",
       "      <td>48.282625</td>\n",
       "      <td>9.0</td>\n",
       "      <td>9</td>\n",
       "      <td>22.0</td>\n",
       "      <td>1989</td>\n",
       "      <td>0.090799</td>\n",
       "      <td>...</td>\n",
       "      <td>5</td>\n",
       "      <td>15</td>\n",
       "      <td>1</td>\n",
       "      <td>0</td>\n",
       "      <td>1</td>\n",
       "      <td>0</td>\n",
       "      <td>41.0</td>\n",
       "      <td>0</td>\n",
       "      <td>0</td>\n",
       "      <td>335781.706862</td>\n",
       "    </tr>\n",
       "    <tr>\n",
       "      <th>4998</th>\n",
       "      <td>4780</td>\n",
       "      <td>62</td>\n",
       "      <td>2.0</td>\n",
       "      <td>81.305222</td>\n",
       "      <td>75.305222</td>\n",
       "      <td>3.0</td>\n",
       "      <td>4</td>\n",
       "      <td>13.0</td>\n",
       "      <td>1977</td>\n",
       "      <td>0.072158</td>\n",
       "      <td>...</td>\n",
       "      <td>0</td>\n",
       "      <td>0</td>\n",
       "      <td>0</td>\n",
       "      <td>0</td>\n",
       "      <td>1</td>\n",
       "      <td>1</td>\n",
       "      <td>153.0</td>\n",
       "      <td>0</td>\n",
       "      <td>1</td>\n",
       "      <td>180325.766011</td>\n",
       "    </tr>\n",
       "    <tr>\n",
       "      <th>4999</th>\n",
       "      <td>12504</td>\n",
       "      <td>30</td>\n",
       "      <td>2.0</td>\n",
       "      <td>60.555693</td>\n",
       "      <td>54.555693</td>\n",
       "      <td>3.0</td>\n",
       "      <td>10</td>\n",
       "      <td>17.0</td>\n",
       "      <td>1977</td>\n",
       "      <td>0.000078</td>\n",
       "      <td>...</td>\n",
       "      <td>3</td>\n",
       "      <td>23</td>\n",
       "      <td>1</td>\n",
       "      <td>0</td>\n",
       "      <td>0</td>\n",
       "      <td>1</td>\n",
       "      <td>152.0</td>\n",
       "      <td>0</td>\n",
       "      <td>1</td>\n",
       "      <td>177872.265188</td>\n",
       "    </tr>\n",
       "  </tbody>\n",
       "</table>\n",
       "<p>5000 rows × 25 columns</p>\n",
       "</div>"
      ],
      "text/plain": [
       "         Id  DistrictId  Rooms     Square  LifeSquare  KitchenSquare  Floor  \\\n",
       "0       725          58    2.0  49.882643   33.432782            6.0      6   \n",
       "1     15856          74    2.0  69.263183   63.263183            3.0      1   \n",
       "2      5480         190    1.0  13.597819   15.948246           12.0      2   \n",
       "3     15664          47    2.0  73.046609   51.940842            9.0     22   \n",
       "4     14275          27    1.0  47.527111   43.387569            3.0     17   \n",
       "...     ...         ...    ...        ...         ...            ...    ...   \n",
       "4995   8180          11    3.0  67.133911   50.809797            6.0      5   \n",
       "4996   4695           1    1.0  40.198472   21.807061           10.0     12   \n",
       "4997   5783          12    3.0  77.842178   48.282625            9.0      9   \n",
       "4998   4780          62    2.0  81.305222   75.305222            3.0      4   \n",
       "4999  12504          30    2.0  60.555693   54.555693            3.0     10   \n",
       "\n",
       "      HouseFloor  HouseYear  Ecology_1  ...  Helthcare_2  Shops_1  Shops_2  \\\n",
       "0           14.0       1972   0.310199  ...            0        0        1   \n",
       "1            1.0       1977   0.075779  ...            0        2        1   \n",
       "2            5.0       1909   0.000000  ...            5        5        1   \n",
       "3           22.0       2007   0.101872  ...            3        3        1   \n",
       "4           17.0       2017   0.072158  ...            0        0        0   \n",
       "...          ...        ...        ...  ...          ...      ...      ...   \n",
       "4995         9.0       1973   0.000170  ...            1        1        1   \n",
       "4996        17.0       2017   0.007122  ...            0        1        1   \n",
       "4997        22.0       1989   0.090799  ...            5       15        1   \n",
       "4998        13.0       1977   0.072158  ...            0        0        0   \n",
       "4999        17.0       1977   0.000078  ...            3       23        1   \n",
       "\n",
       "      Rooms_outlier  HouseFloor_outlier  LifeSquare_nan  DistrictSize  \\\n",
       "0                 0                   0               0         106.0   \n",
       "1                 0                   1               1          79.0   \n",
       "2                 0                   0               0           3.0   \n",
       "3                 0                   0               0          66.0   \n",
       "4                 0                   0               0         578.0   \n",
       "...             ...                 ...             ...           ...   \n",
       "4995              0                   0               0          88.0   \n",
       "4996              0                   0               0         445.0   \n",
       "4997              0                   1               0          41.0   \n",
       "4998              0                   1               1         153.0   \n",
       "4999              0                   0               1         152.0   \n",
       "\n",
       "      new_district  IsDistrictLarge  MedPriceByDistrict  \n",
       "0                0                1       162550.157311  \n",
       "1                0                0       240307.895031  \n",
       "2                0                0       243250.623310  \n",
       "3                0                0       228796.542555  \n",
       "4                0                1       117801.204933  \n",
       "...            ...              ...                 ...  \n",
       "4995             0                0       246508.486248  \n",
       "4996             0                1       147390.425643  \n",
       "4997             0                0       335781.706862  \n",
       "4998             0                1       180325.766011  \n",
       "4999             0                1       177872.265188  \n",
       "\n",
       "[5000 rows x 25 columns]"
      ]
     },
     "execution_count": 251,
     "metadata": {},
     "output_type": "execute_result"
    }
   ],
   "source": [
    "test_df"
   ]
  },
  {
   "cell_type": "code",
   "execution_count": 274,
   "id": "9944d201",
   "metadata": {},
   "outputs": [
    {
     "data": {
      "text/plain": [
       "5000"
      ]
     },
     "execution_count": 274,
     "metadata": {},
     "output_type": "execute_result"
    }
   ],
   "source": [
    "test_df.shape[0]"
   ]
  },
  {
   "cell_type": "code",
   "execution_count": 275,
   "id": "bde16e43",
   "metadata": {},
   "outputs": [
    {
     "data": {
      "text/plain": [
       "array([157042.11398332, 203406.81779302, 231053.26182692, ...,\n",
       "       305941.2572568 , 191494.70298424, 156903.55918733])"
      ]
     },
     "execution_count": 275,
     "metadata": {},
     "output_type": "execute_result"
    }
   ],
   "source": [
    "predictions = rf_model.predict(test_df)\n",
    "predictions"
   ]
  },
  {
   "cell_type": "code",
   "execution_count": 278,
   "id": "85237164",
   "metadata": {},
   "outputs": [
    {
     "data": {
      "text/html": [
       "<div>\n",
       "<style scoped>\n",
       "    .dataframe tbody tr th:only-of-type {\n",
       "        vertical-align: middle;\n",
       "    }\n",
       "\n",
       "    .dataframe tbody tr th {\n",
       "        vertical-align: top;\n",
       "    }\n",
       "\n",
       "    .dataframe thead th {\n",
       "        text-align: right;\n",
       "    }\n",
       "</style>\n",
       "<table border=\"1\" class=\"dataframe\">\n",
       "  <thead>\n",
       "    <tr style=\"text-align: right;\">\n",
       "      <th></th>\n",
       "      <th>Id</th>\n",
       "      <th>Price</th>\n",
       "    </tr>\n",
       "  </thead>\n",
       "  <tbody>\n",
       "    <tr>\n",
       "      <th>0</th>\n",
       "      <td>725</td>\n",
       "      <td>157042.113983</td>\n",
       "    </tr>\n",
       "    <tr>\n",
       "      <th>1</th>\n",
       "      <td>15856</td>\n",
       "      <td>203406.817793</td>\n",
       "    </tr>\n",
       "    <tr>\n",
       "      <th>2</th>\n",
       "      <td>5480</td>\n",
       "      <td>231053.261827</td>\n",
       "    </tr>\n",
       "    <tr>\n",
       "      <th>3</th>\n",
       "      <td>15664</td>\n",
       "      <td>313123.042560</td>\n",
       "    </tr>\n",
       "    <tr>\n",
       "      <th>4</th>\n",
       "      <td>14275</td>\n",
       "      <td>146938.512506</td>\n",
       "    </tr>\n",
       "  </tbody>\n",
       "</table>\n",
       "</div>"
      ],
      "text/plain": [
       "      Id          Price\n",
       "0    725  157042.113983\n",
       "1  15856  203406.817793\n",
       "2   5480  231053.261827\n",
       "3  15664  313123.042560\n",
       "4  14275  146938.512506"
      ]
     },
     "execution_count": 278,
     "metadata": {},
     "output_type": "execute_result"
    }
   ],
   "source": [
    "pred_df['Price'] = predictions\n",
    "pred_df.head()"
   ]
  },
  {
   "cell_type": "code",
   "execution_count": 279,
   "id": "0e49eef3",
   "metadata": {},
   "outputs": [],
   "source": [
    "pred_df.to_csv('./KulkovIV_predictions_.csv', index=False)"
   ]
  },
  {
   "cell_type": "code",
   "execution_count": null,
   "id": "faee93ce",
   "metadata": {},
   "outputs": [],
   "source": []
  },
  {
   "cell_type": "code",
   "execution_count": null,
   "id": "551b68ee",
   "metadata": {},
   "outputs": [],
   "source": []
  }
 ],
 "metadata": {
  "kernelspec": {
   "display_name": "Python 3",
   "language": "python",
   "name": "python3"
  },
  "language_info": {
   "codemirror_mode": {
    "name": "ipython",
    "version": 3
   },
   "file_extension": ".py",
   "mimetype": "text/x-python",
   "name": "python",
   "nbconvert_exporter": "python",
   "pygments_lexer": "ipython3",
   "version": "3.8.8"
  }
 },
 "nbformat": 4,
 "nbformat_minor": 5
}
